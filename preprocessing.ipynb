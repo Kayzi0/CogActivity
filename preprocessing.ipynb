{
 "cells": [
  {
   "cell_type": "code",
   "execution_count": null,
   "metadata": {},
   "outputs": [],
   "source": [
    "import numpy as np\n",
    "import os\n",
    "import helpers\n",
    "from matplotlib import pyplot as plt\n",
    "from scipy.signal import decimate"
   ]
  },
  {
   "cell_type": "code",
   "execution_count": null,
   "metadata": {},
   "outputs": [],
   "source": [
    "labels = helpers.load_data(\"trainLabels.npy\", \"train\")\n",
    "\n",
    "#Smartglasses\n",
    "jins_accel = helpers.load_data(\"trainJinsAccelerometer.npy\", \"train\")\n",
    "jins_gyro = helpers.load_data(\"trainJinsGyroscope.npy\", \"train\")\n",
    "\n",
    "#Smartwatch\n",
    "ms_accel = helpers.load_data(\"trainMSAccelerometer.npy\", \"train\")\n",
    "ms_gyro = helpers.load_data(\"trainMSGyroscope.npy\", \"train\")\n",
    "\n",
    "#Smartphone\n",
    "nx_gravity = helpers.load_data(\"trainGravity.npy\", \"train\")\n",
    "nx_magnet = helpers.load_data(\"trainMagnetometer.npy\", \"train\")\n",
    "nx_linAcc = helpers.load_data(\"trainLinearAcceleration.npy\", \"train\")\n",
    "nx_accel = helpers.load_data(\"trainAccelerometer.npy\", \"train\")\n",
    "nx_gyro = helpers.load_data(\"trainGyroscope.npy\", \"train\")"
   ]
  },
  {
   "cell_type": "code",
   "execution_count": null,
   "metadata": {},
   "outputs": [],
   "source": [
    "y = nx_gravity[0,:,0]\n",
    "x = np.arange(0,nx_gravity.shape[1], 1)\n",
    "#a = helpers.downsample(nx_gravity, 80)\n",
    "x2 = np.arange(0, nx_gravity.shape[1]/2,1)\n",
    "y2 = decimate(y, 2, ftype=\"fir\")\n",
    "plt.plot(x,y)\n",
    "plt.show()"
   ]
  },
  {
   "cell_type": "code",
   "execution_count": null,
   "metadata": {},
   "outputs": [],
   "source": [
    "x2 = np.arange(0, nx_gravity.shape[1]/2,1)\n",
    "y2 = decimate(y, 2, ftype=\"fir\")\n",
    "plt.plot(x,y)\n",
    "plt.show()"
   ]
  }
 ],
 "metadata": {
  "language_info": {
   "name": "python"
  },
  "orig_nbformat": 4
 },
 "nbformat": 4,
 "nbformat_minor": 2
}
