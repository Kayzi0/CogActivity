{
 "cells": [
  {
   "cell_type": "code",
   "execution_count": 11,
   "metadata": {},
   "outputs": [],
   "source": [
    "import numpy as np\n",
    "import os\n",
    "import helpers\n",
    "import pickle\n",
    "from matplotlib import pyplot as plt\n",
    "from scipy import signal\n",
    "from sklearn import preprocessing\n"
   ]
  },
  {
   "cell_type": "code",
   "execution_count": 2,
   "metadata": {},
   "outputs": [],
   "source": [
    "labels = helpers.load_data(\"trainLabels.npy\", \"train\")\n",
    "\n",
    "#Smartglasses\n",
    "jins_accel = helpers.load_data(\"trainJinsAccelerometer.npy\", \"train\")\n",
    "jins_gyro = helpers.load_data(\"trainJinsGyroscope.npy\", \"train\")\n",
    "\n",
    "#Smartwatch\n",
    "ms_accel = helpers.load_data(\"trainMSAccelerometer.npy\", \"train\")\n",
    "ms_gyro = helpers.load_data(\"trainMSGyroscope.npy\", \"train\")\n",
    "\n",
    "#Smartphone\n",
    "nx_gravity = helpers.load_data(\"trainGravity.npy\", \"train\")\n",
    "nx_magnet = helpers.load_data(\"trainMagnetometer.npy\", \"train\")\n",
    "nx_linAcc = helpers.load_data(\"trainLinearAcceleration.npy\", \"train\")\n",
    "nx_accel = helpers.load_data(\"trainAccelerometer.npy\", \"train\")\n",
    "nx_gyro = helpers.load_data(\"trainGyroscope.npy\", \"train\")"
   ]
  },
  {
   "cell_type": "code",
   "execution_count": 4,
   "metadata": {},
   "outputs": [
    {
     "name": "stderr",
     "output_type": "stream",
     "text": [
      "C:\\Users\\wpsky\\AppData\\Local\\Programs\\Python\\Python38\\lib\\site-packages\\scipy\\signal\\_signaltools.py:1611: RuntimeWarning: divide by zero encountered in true_divide\n",
      "  res *= (1 - noise / lVar)\n",
      "C:\\Users\\wpsky\\AppData\\Local\\Programs\\Python\\Python38\\lib\\site-packages\\scipy\\signal\\_signaltools.py:1611: RuntimeWarning: invalid value encountered in multiply\n",
      "  res *= (1 - noise / lVar)\n",
      "C:\\Users\\wpsky\\AppData\\Local\\Programs\\Python\\Python38\\lib\\site-packages\\scipy\\signal\\_signaltools.py:1611: RuntimeWarning: divide by zero encountered in true_divide\n",
      "  res *= (1 - noise / lVar)\n",
      "C:\\Users\\wpsky\\AppData\\Local\\Programs\\Python\\Python38\\lib\\site-packages\\scipy\\signal\\_signaltools.py:1611: RuntimeWarning: invalid value encountered in multiply\n",
      "  res *= (1 - noise / lVar)\n",
      "C:\\Users\\wpsky\\AppData\\Local\\Programs\\Python\\Python38\\lib\\site-packages\\scipy\\signal\\_signaltools.py:1611: RuntimeWarning: divide by zero encountered in true_divide\n",
      "  res *= (1 - noise / lVar)\n",
      "C:\\Users\\wpsky\\AppData\\Local\\Programs\\Python\\Python38\\lib\\site-packages\\scipy\\signal\\_signaltools.py:1611: RuntimeWarning: invalid value encountered in multiply\n",
      "  res *= (1 - noise / lVar)\n"
     ]
    }
   ],
   "source": [
    "jins_accel = helpers.preprocess_data(jins_accel, sampling_type=\"upsample\")\n",
    "jins_gyro = helpers.preprocess_data(jins_gyro, \"upsample\")\n",
    "ms_accel = helpers.preprocess_data(ms_accel, \"upsample\") #actually getting downsampled, but using resample instead of decimates\n",
    "ms_gyro = helpers.preprocess_data(ms_gyro, \"upsample\")\n",
    "nx_gravity = helpers.preprocess_data(nx_gravity)\n",
    "nx_magnet = helpers.preprocess_data(nx_magnet) #not getting resampled, but still needs other preprocessing steps\n",
    "nx_linAcc = helpers.preprocess_data(nx_linAcc)\n",
    "nx_accel = helpers.preprocess_data(nx_accel)\n",
    "nx_gyro = helpers.preprocess_data(nx_gyro)\n"
   ]
  },
  {
   "cell_type": "code",
   "execution_count": 13,
   "metadata": {},
   "outputs": [],
   "source": [
    "train_data = np.stack((jins_accel, jins_gyro, ms_accel,ms_gyro, nx_gravity, nx_magnet, nx_linAcc, nx_accel, nx_gyro), axis = 1)\n",
    "\n",
    "pickle.dump(train_data, open(r\"data\\train.pkl\", \"wb\"))\n",
    "\n",
    "pickle.dump(labels, open(r\"data\\labels.pkl\", \"wb\"))"
   ]
  }
 ],
 "metadata": {
  "interpreter": {
   "hash": "916dbcbb3f70747c44a77c7bcd40155683ae19c65e1c03b4aa3499c5328201f1"
  },
  "kernelspec": {
   "display_name": "Python 3.8.10 64-bit",
   "language": "python",
   "name": "python3"
  },
  "language_info": {
   "codemirror_mode": {
    "name": "ipython",
    "version": 3
   },
   "file_extension": ".py",
   "mimetype": "text/x-python",
   "name": "python",
   "nbconvert_exporter": "python",
   "pygments_lexer": "ipython3",
   "version": "3.8.8"
  },
  "orig_nbformat": 4
 },
 "nbformat": 4,
 "nbformat_minor": 2
}
