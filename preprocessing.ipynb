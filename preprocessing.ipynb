{
 "cells": [
  {
   "cell_type": "code",
   "execution_count": 1,
   "metadata": {},
   "outputs": [],
   "source": [
    "import numpy as np\n",
    "import os\n",
    "import helpers\n",
    "import pickle\n",
    "from matplotlib import pyplot as plt\n",
    "from scipy import signal\n",
    "from sklearn import preprocessing\n"
   ]
  },
  {
   "cell_type": "code",
   "execution_count": 2,
   "metadata": {},
   "outputs": [],
   "source": [
    "#load in training data\n",
    "labels = helpers.load_data(\"trainLabels.npy\", \"train\")\n",
    "\n",
    "#Smartglasses\n",
    "jins_accel = helpers.load_data(\"trainJinsAccelerometer.npy\", \"train\")\n",
    "jins_gyro = helpers.load_data(\"trainJinsGyroscope.npy\", \"train\")\n",
    "\n",
    "#Smartwatch\n",
    "ms_accel = helpers.load_data(\"trainMSAccelerometer.npy\", \"train\")\n",
    "ms_gyro = helpers.load_data(\"trainMSGyroscope.npy\", \"train\")\n",
    "\n",
    "#Smartphone\n",
    "nx_gravity = helpers.load_data(\"trainGravity.npy\", \"train\")\n",
    "nx_magnet = helpers.load_data(\"trainMagnetometer.npy\", \"train\")\n",
    "nx_linAcc = helpers.load_data(\"trainLinearAcceleration.npy\", \"train\")\n",
    "nx_accel = helpers.load_data(\"trainAccelerometer.npy\", \"train\")\n",
    "nx_gyro = helpers.load_data(\"trainGyroscope.npy\", \"train\")"
   ]
  },
  {
   "cell_type": "code",
   "execution_count": 3,
   "metadata": {},
   "outputs": [],
   "source": [
    "#load in testing data\n",
    "labels_test = helpers.load_data(\"testLabels.npy\", \"test\")\n",
    "\n",
    "#Smartglasses\n",
    "jins_accel_test = helpers.load_data(\"testJinsAccelerometer.npy\", \"test\")\n",
    "jins_gyro_test = helpers.load_data(\"testJinsGyroscope.npy\", \"test\")\n",
    "\n",
    "#Smartwatch\n",
    "ms_accel_test = helpers.load_data(\"testMSAccelerometer.npy\", \"test\")\n",
    "ms_gyro_test = helpers.load_data(\"testMSGyroscope.npy\", \"test\")\n",
    "\n",
    "#Smartphone\n",
    "nx_gravity_test = helpers.load_data(\"testGravity.npy\", \"test\")\n",
    "nx_magnet_test = helpers.load_data(\"testMagnetometer.npy\", \"test\")\n",
    "nx_linAcc_test = helpers.load_data(\"testLinearAcceleration.npy\", \"test\")\n",
    "nx_accel_test = helpers.load_data(\"testAccelerometer.npy\", \"test\")\n",
    "nx_gyro_test = helpers.load_data(\"testGyroscope.npy\", \"test\")"
   ]
  },
  {
   "cell_type": "code",
   "execution_count": 4,
   "metadata": {},
   "outputs": [
    {
     "data": {
      "image/png": "[encoded data removed]",
      "text/plain": [
       "<Figure size 432x288 with 1 Axes>"
      ]
     },
     "metadata": {
      "needs_background": "light"
     },
     "output_type": "display_data"
    },
    {
     "name": "stdout",
     "output_type": "stream",
     "text": [
      "[]\n"
     ]
    }
   ],
   "source": [
    "y = jins_accel[0,:,0]\n",
    "x = np.arange(0, y.shape[0], 1)\n",
    "plt.plot(x,y)\n",
    "plt.show()\n",
    "\n",
    "t = np.argwhere(np.isnan(jins_accel))\n",
    "print(t)"
   ]
  },
  {
   "cell_type": "code",
   "execution_count": 5,
   "metadata": {},
   "outputs": [
    {
     "name": "stderr",
     "output_type": "stream",
     "text": [
      "C:\\Users\\wpsky\\AppData\\Local\\Programs\\Python\\Python38\\lib\\site-packages\\scipy\\signal\\_signaltools.py:1611: RuntimeWarning: divide by zero encountered in true_divide\n",
      "  res *= (1 - noise / lVar)\n",
      "C:\\Users\\wpsky\\AppData\\Local\\Programs\\Python\\Python38\\lib\\site-packages\\scipy\\signal\\_signaltools.py:1611: RuntimeWarning: invalid value encountered in multiply\n",
      "  res *= (1 - noise / lVar)\n",
      "C:\\Users\\wpsky\\AppData\\Local\\Programs\\Python\\Python38\\lib\\site-packages\\scipy\\signal\\_signaltools.py:1611: RuntimeWarning: invalid value encountered in true_divide\n",
      "  res *= (1 - noise / lVar)\n"
     ]
    }
   ],
   "source": [
    "#preprocess training data\n",
    "jins_accel = helpers.preprocess_data(jins_accel, sampling_type=\"resample\")\n",
    "jins_gyro = helpers.preprocess_data(jins_gyro, \"resample\")\n",
    "ms_accel = helpers.preprocess_data(ms_accel, \"resample\") #actually getting downsampled, but using resample instead of decimates\n",
    "ms_gyro = helpers.preprocess_data(ms_gyro, \"resample\")\n",
    "nx_gravity = helpers.preprocess_data(nx_gravity)\n",
    "nx_magnet = helpers.preprocess_data(nx_magnet) #not getting resampled, but still needs other preprocessing steps\n",
    "nx_linAcc = helpers.preprocess_data(nx_linAcc)\n",
    "nx_accel = helpers.preprocess_data(nx_accel)\n",
    "nx_gyro = helpers.preprocess_data(nx_gyro)\n"
   ]
  },
  {
   "cell_type": "code",
   "execution_count": 6,
   "metadata": {},
   "outputs": [],
   "source": [
    "#preprocess test data\n",
    "jins_accel_test = helpers.preprocess_data(jins_accel_test, sampling_type=\"resample\")\n",
    "jins_gyro_test = helpers.preprocess_data(jins_gyro_test, \"resample\")\n",
    "ms_accel_test = helpers.preprocess_data(ms_accel_test, \"resample\") #actually getting downsampled, but using resample instead of decimates\n",
    "ms_gyro_test = helpers.preprocess_data(ms_gyro_test, \"resample\")\n",
    "nx_gravity_test = helpers.preprocess_data(nx_gravity_test)\n",
    "nx_magnet_test = helpers.preprocess_data(nx_magnet_test) #not getting resampled, but still needs other preprocessing steps\n",
    "nx_linAcc_test = helpers.preprocess_data(nx_linAcc_test)\n",
    "nx_accel_test = helpers.preprocess_data(nx_accel_test)\n",
    "nx_gyro_test = helpers.preprocess_data(nx_gyro_test)"
   ]
  },
  {
   "cell_type": "code",
   "execution_count": 7,
   "metadata": {},
   "outputs": [
    {
     "data": {
      "image/png": "[encoded data removed]",
      "text/plain": [
       "<Figure size 432x288 with 1 Axes>"
      ]
     },
     "metadata": {
      "needs_background": "light"
     },
     "output_type": "display_data"
    },
    {
     "name": "stdout",
     "output_type": "stream",
     "text": [
      "[[ 167    0    0]\n",
      " [ 167    1    0]\n",
      " [ 167    2    0]\n",
      " ...\n",
      " [1288  197    0]\n",
      " [1288  198    0]\n",
      " [1288  199    0]]\n"
     ]
    },
    {
     "data": {
      "text/plain": [
       "1600"
      ]
     },
     "execution_count": 7,
     "metadata": {},
     "output_type": "execute_result"
    }
   ],
   "source": [
    "y = jins_accel[0,:,0]\n",
    "x = np.arange(0, y.shape[0], 1)\n",
    "plt.plot(x,y)\n",
    "plt.show()\n",
    "\n",
    "t = np.argwhere(np.isnan(jins_accel))\n",
    "print(t)\n",
    "len(t)"
   ]
  },
  {
   "cell_type": "code",
   "execution_count": 8,
   "metadata": {},
   "outputs": [],
   "source": [
    "train_data = np.stack((jins_gyro, ms_accel,ms_gyro, nx_gravity, nx_magnet, nx_linAcc, nx_accel, nx_gyro), axis = 1)\n",
    "\n",
    "pickle.dump(train_data, open(r\"data/train.pkl\", \"wb\"))\n",
    "\n",
    "pickle.dump(labels, open(r\"data/labels.pkl\", \"wb\"))"
   ]
  },
  {
   "cell_type": "code",
   "execution_count": 9,
   "metadata": {},
   "outputs": [],
   "source": [
    "test_data = np.stack((jins_gyro_test, ms_accel_test, ms_gyro_test, nx_gravity_test, nx_magnet_test, nx_linAcc_test, nx_accel_test, nx_gyro_test), axis = 1)\n",
    "\n",
    "pickle.dump(test_data, open(r\"data/test.pkl\", \"wb\"))\n",
    "pickle.dump(labels_test, open(r\"data/labels_test.pkl\", \"wb\"))"
   ]
  }
 ],
 "metadata": {
  "interpreter": {
   "hash": "916dbcbb3f70747c44a77c7bcd40155683ae19c65e1c03b4aa3499c5328201f1"
  },
  "kernelspec": {
   "display_name": "Python 3.8.10 64-bit",
   "language": "python",
   "name": "python3"
  },
  "language_info": {
   "codemirror_mode": {
    "name": "ipython",
    "version": 3
   },
   "file_extension": ".py",
   "mimetype": "text/x-python",
   "name": "python",
   "nbconvert_exporter": "python",
   "pygments_lexer": "ipython3",
   "version": "3.8.8"
  },
  "orig_nbformat": 4
 },
 "nbformat": 4,
 "nbformat_minor": 2
}
