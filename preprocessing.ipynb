{
 "cells": [
  {
   "cell_type": "code",
   "execution_count": 1,
   "metadata": {},
   "outputs": [],
   "source": [
    "import numpy as np\n",
    "import os\n",
    "import helpers\n",
    "from matplotlib import pyplot as plt\n",
    "from scipy import signal\n",
    "from sklearn import preprocessing\n"
   ]
  },
  {
   "cell_type": "code",
   "execution_count": 2,
   "metadata": {},
   "outputs": [],
   "source": [
    "labels = helpers.load_data(\"trainLabels.npy\", \"train\")\n",
    "\n",
    "#Smartglasses\n",
    "jins_accel = helpers.load_data(\"trainJinsAccelerometer.npy\", \"train\")\n",
    "jins_gyro = helpers.load_data(\"trainJinsGyroscope.npy\", \"train\")\n",
    "\n",
    "#Smartwatch\n",
    "ms_accel = helpers.load_data(\"trainMSAccelerometer.npy\", \"train\")\n",
    "ms_gyro = helpers.load_data(\"trainMSGyroscope.npy\", \"train\")\n",
    "\n",
    "#Smartphone\n",
    "nx_gravity = helpers.load_data(\"trainGravity.npy\", \"train\")\n",
    "nx_magnet = helpers.load_data(\"trainMagnetometer.npy\", \"train\")\n",
    "nx_linAcc = helpers.load_data(\"trainLinearAcceleration.npy\", \"train\")\n",
    "nx_accel = helpers.load_data(\"trainAccelerometer.npy\", \"train\")\n",
    "nx_gyro = helpers.load_data(\"trainGyroscope.npy\", \"train\")"
   ]
  },
  {
   "cell_type": "code",
   "execution_count": null,
   "metadata": {},
   "outputs": [],
   "source": [
    "jins_accel = helpers.preprocess_data(jins_accel)"
   ]
  }
 ],
 "metadata": {
  "interpreter": {
   "hash": "916dbcbb3f70747c44a77c7bcd40155683ae19c65e1c03b4aa3499c5328201f1"
  },
  "kernelspec": {
   "display_name": "Python 3.8.10 64-bit",
   "language": "python",
   "name": "python3"
  },
  "language_info": {
   "codemirror_mode": {
    "name": "ipython",
    "version": 3
   },
   "file_extension": ".py",
   "mimetype": "text/x-python",
   "name": "python",
   "nbconvert_exporter": "python",
   "pygments_lexer": "ipython3",
   "version": "3.8.10"
  },
  "orig_nbformat": 4
 },
 "nbformat": 4,
 "nbformat_minor": 2
}
