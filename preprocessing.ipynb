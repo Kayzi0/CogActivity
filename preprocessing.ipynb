{
 "cells": [
  {
   "cell_type": "code",
   "execution_count": 2,
   "metadata": {},
   "outputs": [],
   "source": [
    "import numpy as np\n",
    "import os\n",
    "import helpers\n",
    "import pickle\n",
    "from matplotlib import pyplot as plt\n",
    "from scipy import signal\n",
    "from sklearn import preprocessing\n"
   ]
  },
  {
   "cell_type": "code",
   "execution_count": 3,
   "metadata": {},
   "outputs": [],
   "source": [
    "labels = helpers.load_data(\"trainLabels.npy\", \"train\")\n",
    "\n",
    "#Smartglasses\n",
    "jins_accel = helpers.load_data(\"trainJinsAccelerometer.npy\", \"train\")\n",
    "jins_gyro = helpers.load_data(\"trainJinsGyroscope.npy\", \"train\")\n",
    "\n",
    "#Smartwatch\n",
    "ms_accel = helpers.load_data(\"trainMSAccelerometer.npy\", \"train\")\n",
    "ms_gyro = helpers.load_data(\"trainMSGyroscope.npy\", \"train\")\n",
    "\n",
    "#Smartphone\n",
    "nx_gravity = helpers.load_data(\"trainGravity.npy\", \"train\")\n",
    "nx_magnet = helpers.load_data(\"trainMagnetometer.npy\", \"train\")\n",
    "nx_linAcc = helpers.load_data(\"trainLinearAcceleration.npy\", \"train\")\n",
    "nx_accel = helpers.load_data(\"trainAccelerometer.npy\", \"train\")\n",
    "nx_gyro = helpers.load_data(\"trainGyroscope.npy\", \"train\")"
   ]
  },
  {
   "cell_type": "code",
   "execution_count": 5,
   "metadata": {},
   "outputs": [
    {
     "name": "stderr",
     "output_type": "stream",
     "text": [
      "/home/wph/.local/lib/python3.8/site-packages/scipy/signal/_signaltools.py:1611: RuntimeWarning: divide by zero encountered in true_divide\n",
      "  res *= (1 - noise / lVar)\n",
      "/home/wph/.local/lib/python3.8/site-packages/scipy/signal/_signaltools.py:1611: RuntimeWarning: invalid value encountered in multiply\n",
      "  res *= (1 - noise / lVar)\n",
      "/home/wph/.local/lib/python3.8/site-packages/scipy/signal/_signaltools.py:1611: RuntimeWarning: divide by zero encountered in true_divide\n",
      "  res *= (1 - noise / lVar)\n",
      "/home/wph/.local/lib/python3.8/site-packages/scipy/signal/_signaltools.py:1611: RuntimeWarning: invalid value encountered in multiply\n",
      "  res *= (1 - noise / lVar)\n"
     ]
    },
    {
     "name": "stdout",
     "output_type": "stream",
     "text": [
      "Unexpected exception formatting exception. Falling back to standard exception\n"
     ]
    },
    {
     "name": "stderr",
     "output_type": "stream",
     "text": [
      "Traceback (most recent call last):\n",
      "  File \"/home/wph/.local/lib/python3.8/site-packages/IPython/core/interactiveshell.py\", line 3369, in run_code\n",
      "    exec(code_obj, self.user_global_ns, self.user_ns)\n",
      "  File \"/tmp/ipykernel_2735/3494985010.py\", line 4, in <cell line: 4>\n",
      "    ms_gyro = helpers.preprocess_data(ms_gyro)\n",
      "  File \"/home/wph/Documents/CogActivity/helpers.py\", line 50, in preprocess_data\n",
      "    out_data = downsample(data, target_size)\n",
      "  File \"/home/wph/Documents/CogActivity/helpers.py\", line 20, in downsample\n",
      "    downsampled_data[i,:,j] = signal.decimate(data[i,:,j], downsample_factor)\n",
      "ValueError: could not broadcast input array from shape (268,) into shape (200,)\n",
      "\n",
      "During handling of the above exception, another exception occurred:\n",
      "\n",
      "Traceback (most recent call last):\n",
      "  File \"/home/wph/.local/lib/python3.8/site-packages/IPython/core/interactiveshell.py\", line 1982, in showtraceback\n",
      "    stb = self.InteractiveTB.structured_traceback(\n",
      "  File \"/home/wph/.local/lib/python3.8/site-packages/IPython/core/ultratb.py\", line 1118, in structured_traceback\n",
      "    return FormattedTB.structured_traceback(\n",
      "  File \"/home/wph/.local/lib/python3.8/site-packages/IPython/core/ultratb.py\", line 1012, in structured_traceback\n",
      "    return VerboseTB.structured_traceback(\n",
      "  File \"/home/wph/.local/lib/python3.8/site-packages/IPython/core/ultratb.py\", line 865, in structured_traceback\n",
      "    formatted_exception = self.format_exception_as_a_whole(etype, evalue, etb, number_of_lines_of_context,\n",
      "  File \"/home/wph/.local/lib/python3.8/site-packages/IPython/core/ultratb.py\", line 799, in format_exception_as_a_whole\n",
      "    self.get_records(etb, number_of_lines_of_context, tb_offset) if etb else []\n",
      "  File \"/home/wph/.local/lib/python3.8/site-packages/IPython/core/ultratb.py\", line 845, in get_records\n",
      "    style = stack_data.style_with_executing_node(style, \"bg:ansiyellow\")\n",
      "  File \"/home/wph/.local/lib/python3.8/site-packages/stack_data/core.py\", line 424, in style_with_executing_node\n",
      "    class NewStyle(style):\n",
      "  File \"/usr/lib/python3/dist-packages/pygments/style.py\", line 91, in __new__\n",
      "    ndef[4] = colorformat(styledef[3:])\n",
      "  File \"/usr/lib/python3/dist-packages/pygments/style.py\", line 58, in colorformat\n",
      "    assert False, \"wrong color format %r\" % text\n",
      "AssertionError: wrong color format 'ansiyellow'\n"
     ]
    }
   ],
   "source": [
    "jins_accel = helpers.preprocess_data(jins_accel, sampling_type=\"upsample\")\n",
    "jins_gyro = helpers.preprocess_data(jins_gyro, \"upsample\")\n",
    "ms_accel = helpers.preprocess_data(ms_accel, \"upsample\") #actually getting downsampled, but using resample instead of decimates\n",
    "ms_gyro = helpers.preprocess_data(ms_gyro)\n",
    "nx_gravity = helpers.preprocess_data(nx_gravity)\n",
    "nx_magnet = helpers.preprocess_data(nx_magnet) #not getting resampled, but still needs other preprocessing steps\n",
    "nx_linAcc = helpers.preprocess_data(nx_linAcc)\n",
    "nx_accel = helpers.preprocess_data(nx_accel)\n",
    "nx_gyro = helpers.preprocess_data(nx_gyro)\n"
   ]
  },
  {
   "cell_type": "code",
   "execution_count": null,
   "metadata": {},
   "outputs": [],
   "source": []
  }
 ],
 "metadata": {
  "interpreter": {
   "hash": "916dbcbb3f70747c44a77c7bcd40155683ae19c65e1c03b4aa3499c5328201f1"
  },
  "kernelspec": {
   "display_name": "Python 3.8.10 64-bit",
   "language": "python",
   "name": "python3"
  },
  "language_info": {
   "codemirror_mode": {
    "name": "ipython",
    "version": 3
   },
   "file_extension": ".py",
   "mimetype": "text/x-python",
   "name": "python",
   "nbconvert_exporter": "python",
   "pygments_lexer": "ipython3",
   "version": "3.8.10"
  },
  "orig_nbformat": 4
 },
 "nbformat": 4,
 "nbformat_minor": 2
}
