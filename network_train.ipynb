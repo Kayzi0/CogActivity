{
 "cells": [
  {
   "cell_type": "code",
   "execution_count": 11,
   "metadata": {},
   "outputs": [],
   "source": [
    "from torch import nn, optim\n",
    "import numpy as np\n",
    "import pickle as p\n",
    "import torch\n",
    "from tqdm.notebook import trange\n",
    "from tqdm import tqdm\n",
    "import os\n",
    "import matplotlib.pyplot as plt\n",
    "from resnet import ResNet\n",
    "from network import ConvNet\n",
    "from sklearn.metrics import f1_score\n",
    "from torch.utils.data import Dataset\n",
    "from torch.utils.data import DataLoader\n",
    "from dataset import CogDataset\n",
    "import helpers"
   ]
  },
  {
   "cell_type": "code",
   "execution_count": 4,
   "metadata": {},
   "outputs": [],
   "source": [
    "# function for training and evaluation\n",
    "def train(model, num_epochs, train_dataloader, val_dataloader):\n",
    "    losses_train = []\n",
    "    accuracies_train = []\n",
    "    f1s_train = []\n",
    "    losses_val = []\n",
    "    accuracies_val = []\n",
    "    f1s_val = []\n",
    "\n",
    "    for epoch in trange(num_epochs, unit=\"epochs\"):\n",
    "\n",
    "        # training\n",
    "        running_loss = 0.0\n",
    "        running_accuracy = 0.0\n",
    "        conf_mat = torch.zeros(55, 55)\n",
    "\n",
    "        model.train()\n",
    "\n",
    "        for input, target in train_dataloader:\n",
    "\n",
    "            optimizer.zero_grad()\n",
    "\n",
    "            output = model(input)\n",
    "            \n",
    "            loss = criterion(output, target)\n",
    "            loss.backward()\n",
    "\n",
    "            running_loss += loss.item()\n",
    "            conf_mat += helpers.confusion_mat(output, target)\n",
    "\n",
    "            prediction = torch.argmax(output, dim=1)\n",
    "\n",
    "\n",
    "            for p, t in zip(prediction, target):\n",
    "                if p == t:\n",
    "                    running_accuracy+=1 \n",
    "            #running_f1 += f1_score(target, prediction, average='macro')\n",
    "            optimizer.step()\n",
    "\n",
    "\n",
    "        running_loss /= (len(train_dataloader)*batch_size)\n",
    "        running_accuracy /= (len(train_dataloader) * batch_size)\n",
    "        f1 = helpers.f1_score(conf_mat)\n",
    "\n",
    "        losses_train.append(running_loss)\n",
    "        accuracies_train.append(running_accuracy)\n",
    "        f1s_train.append(f1)\n",
    "\n",
    "        # output\n",
    "        if epoch % 20 == 0:\n",
    "            tqdm.write('Epoch {} (train) -- loss: {:.2f} acc: {:.2f}'.format(epoch, running_loss, running_accuracy))\n",
    "\n",
    "\n",
    "        # validation\n",
    "        with torch.no_grad():\n",
    "\n",
    "            model.eval()\n",
    "\n",
    "            running_loss = 0.0\n",
    "            running_accuracy = 0.0\n",
    "            conf_mat = torch.zeros(55, 55)\n",
    "\n",
    "            for input, target in val_dataloader:\n",
    "\n",
    "                    output = model(input)\n",
    "                    loss = criterion(output, target)\n",
    "\n",
    "                    running_loss += loss.item()\n",
    "                    conf_mat += helpers.confusion_mat(output, target)\n",
    "\n",
    "                    prediction = torch.argmax(output, dim=1).float()   \n",
    "\n",
    "                    for o, t in zip(prediction, target):\n",
    "                        if o == t:\n",
    "                            running_accuracy+=1 \n",
    "                    #running_f1 += f1_score(target, prediction)\n",
    "\n",
    "            running_loss /= (len(val_dataloader)*batch_size)\n",
    "            running_accuracy /= (len(val_dataloader)*batch_size)\n",
    "            f1 = helpers.f1_score(conf_mat)\n",
    "\n",
    "            scheduler.step(running_loss)\n",
    "\n",
    "            losses_val.append(running_loss)\n",
    "            accuracies_val.append(running_accuracy)\n",
    "            f1s_val.append(f1)\n",
    "\n",
    "            # output\n",
    "            if epoch % 20 == 0:\n",
    "                tqdm.write('Epoch {} (valid) -- loss: {:.2f} acc: {:.2f}, f1: {:.2f}'.format(epoch, running_loss, running_accuracy, f1))\n",
    "    # make model callable outside this function\n",
    "    train.trained_model = model\n",
    "    train.losses_train = losses_train\n",
    "    train.losses_val = losses_val\n",
    "    train.accuracy_train = accuracies_train\n",
    "    train.accuracy_val = accuracies_val\n",
    "    train.f1_train = f1s_train\n",
    "    train.f1_val = f1s_val"
   ]
  },
  {
   "cell_type": "code",
   "execution_count": 5,
   "metadata": {},
   "outputs": [
    {
     "name": "stdout",
     "output_type": "stream",
     "text": [
      "(2284, 8, 200, 3)\n"
     ]
    }
   ],
   "source": [
    "# load data and label files\n",
    "# shape = [2284, 200, 3, 9] --> [datasets, time series, channels, devices]\n",
    "data = p.load(open(r\"data/train.pkl\", \"rb\"))\n",
    "labels = p.load(open(r\"data/labels.pkl\", \"rb\"))\n",
    "print(data.shape)\n",
    "\n",
    "batch_size = 10\n",
    "\n",
    "\n"
   ]
  },
  {
   "cell_type": "code",
   "execution_count": 6,
   "metadata": {},
   "outputs": [
    {
     "name": "stdout",
     "output_type": "stream",
     "text": [
      "(2284, 24, 200)\n"
     ]
    }
   ],
   "source": [
    "#reshape data into datasets x (channels x devices) x time series \n",
    "data = data.transpose((0,1,3,2))\n",
    "data = data.reshape(data.shape[0], -1, data.shape[3])\n",
    "print(data.shape)"
   ]
  },
  {
   "cell_type": "code",
   "execution_count": 7,
   "metadata": {},
   "outputs": [],
   "source": [
    "# create datasets\n",
    "train_dataset = CogDataset(data, labels, train=True)\n",
    "train_dataloader = DataLoader(dataset=train_dataset, batch_size=batch_size, shuffle=True)\n",
    "\n",
    "val_dataset = CogDataset(data, labels, train=False)\n",
    "val_dataloader = DataLoader(dataset=val_dataset, batch_size=batch_size, shuffle=False)"
   ]
  },
  {
   "cell_type": "code",
   "execution_count": 8,
   "metadata": {},
   "outputs": [
    {
     "name": "stdout",
     "output_type": "stream",
     "text": [
      "tensor([0.9987, 0.9867, 0.9752, 0.9867, 0.9230, 0.9867, 0.9867, 0.9428, 0.9327,\n",
      "        1.4299, 0.9532, 0.9987, 1.0111, 1.0111, 1.0111, 0.9867, 1.0111, 0.9987,\n",
      "        0.9640, 1.0111, 0.9327, 0.9752, 1.0111, 0.9640, 0.9230, 1.4299, 0.9640,\n",
      "        0.9987, 0.9640, 0.9987, 0.9640, 1.0240, 0.9987, 0.9752, 0.9752, 0.9428,\n",
      "        1.0111, 1.0111, 0.9752, 0.9867, 0.9867, 0.9867, 0.9640, 1.0111, 1.0111,\n",
      "        0.9752, 0.9532, 0.9987, 1.0111, 1.0240, 0.9987, 1.0111, 0.9640, 0.9987,\n",
      "        0.9752])\n"
     ]
    }
   ],
   "source": [
    "label_counts = torch.from_numpy(labels).bincount().float()\n",
    "weights = np.sqrt(1/label_counts)\n",
    "weights /= weights.mean()\n",
    "print(weights)"
   ]
  },
  {
   "cell_type": "code",
   "execution_count": 12,
   "metadata": {},
   "outputs": [],
   "source": [
    "# define loss, optimizer etc.\n",
    "model = ResNet()\n",
    "epochs = 100\n",
    "lr = 0.001\n",
    "criterion = nn.CrossEntropyLoss(weight = weights.double())\n",
    "optimizer = optim.Adam(model.parameters(), lr)\n",
    "scheduler = optim.lr_scheduler.ReduceLROnPlateau(optimizer, \"min\", factor=0.5)\n",
    "\n",
    "load_model = False\n",
    "net_num = 10\n",
    "#load pretrained model (to continue training)\n",
    "if load_model:\n",
    "    model.load_state_dict(torch.load(\"trained_models/net_\" + str(net_num) + \".pt\"))"
   ]
  },
  {
   "cell_type": "code",
   "execution_count": 13,
   "metadata": {},
   "outputs": [
    {
     "data": {
      "application/vnd.jupyter.widget-view+json": {
       "model_id": "f993691e16bb44aa8565ee750065e111",
       "version_major": 2,
       "version_minor": 0
      },
      "text/plain": [
       "  0%|          | 0/100 [00:00<?, ?epochs/s]"
      ]
     },
     "metadata": {},
     "output_type": "display_data"
    },
    {
     "name": "stdout",
     "output_type": "stream",
     "text": [
      "Epoch 0 (train) -- loss: 0.36 acc: 0.10\n"
     ]
    },
    {
     "ename": "NameError",
     "evalue": "name 'mdl_e1_utils' is not defined",
     "output_type": "error",
     "traceback": [
      "\u001b[0;31m---------------------------------------------------------------------------\u001b[0m",
      "\u001b[0;31mNameError\u001b[0m                                 Traceback (most recent call last)",
      "\u001b[1;32m/Users/annka/Programming/Uni/MedDatSci/CogActivity/network_train.ipynb Cell 8'\u001b[0m in \u001b[0;36m<cell line: 2>\u001b[0;34m()\u001b[0m\n\u001b[1;32m      <a href='vscode-notebook-cell:/Users/annka/Programming/Uni/MedDatSci/CogActivity/network_train.ipynb#ch0000007?line=0'>1</a>\u001b[0m \u001b[39m# train model\u001b[39;00m\n\u001b[0;32m----> <a href='vscode-notebook-cell:/Users/annka/Programming/Uni/MedDatSci/CogActivity/network_train.ipynb#ch0000007?line=1'>2</a>\u001b[0m train(model\u001b[39m.\u001b[39;49mdouble(), epochs, train_dataloader, val_dataloader)\n",
      "\u001b[1;32m/Users/annka/Programming/Uni/MedDatSci/CogActivity/network_train.ipynb Cell 2'\u001b[0m in \u001b[0;36mtrain\u001b[0;34m(model, num_epochs, train_dataloader, val_dataloader)\u001b[0m\n\u001b[1;32m     <a href='vscode-notebook-cell:/Users/annka/Programming/Uni/MedDatSci/CogActivity/network_train.ipynb#ch0000001?line=77'>78</a>\u001b[0m running_loss \u001b[39m/\u001b[39m\u001b[39m=\u001b[39m (\u001b[39mlen\u001b[39m(val_dataloader)\u001b[39m*\u001b[39mbatch_size)\n\u001b[1;32m     <a href='vscode-notebook-cell:/Users/annka/Programming/Uni/MedDatSci/CogActivity/network_train.ipynb#ch0000001?line=78'>79</a>\u001b[0m running_accuracy \u001b[39m/\u001b[39m\u001b[39m=\u001b[39m (\u001b[39mlen\u001b[39m(val_dataloader)\u001b[39m*\u001b[39mbatch_size)\n\u001b[0;32m---> <a href='vscode-notebook-cell:/Users/annka/Programming/Uni/MedDatSci/CogActivity/network_train.ipynb#ch0000001?line=79'>80</a>\u001b[0m f1 \u001b[39m=\u001b[39m mdl_e1_utils\u001b[39m.\u001b[39mf1_score(conf_mat)\n\u001b[1;32m     <a href='vscode-notebook-cell:/Users/annka/Programming/Uni/MedDatSci/CogActivity/network_train.ipynb#ch0000001?line=81'>82</a>\u001b[0m scheduler\u001b[39m.\u001b[39mstep(running_loss)\n\u001b[1;32m     <a href='vscode-notebook-cell:/Users/annka/Programming/Uni/MedDatSci/CogActivity/network_train.ipynb#ch0000001?line=83'>84</a>\u001b[0m losses_val\u001b[39m.\u001b[39mappend(running_loss)\n",
      "\u001b[0;31mNameError\u001b[0m: name 'mdl_e1_utils' is not defined"
     ]
    }
   ],
   "source": [
    "# train model\n",
    "train(model.double(), epochs, train_dataloader, val_dataloader)"
   ]
  },
  {
   "cell_type": "code",
   "execution_count": null,
   "metadata": {},
   "outputs": [
    {
     "data": {
      "image/png": "[encoded data removed]",
      "text/plain": [
       "<Figure size 432x288 with 1 Axes>"
      ]
     },
     "metadata": {
      "needs_background": "light"
     },
     "output_type": "display_data"
    },
    {
     "data": {
      "image/png": "[encoded data removed]",
      "text/plain": [
       "<Figure size 432x288 with 1 Axes>"
      ]
     },
     "metadata": {
      "needs_background": "light"
     },
     "output_type": "display_data"
    }
   ],
   "source": [
    "# plot metrics\n",
    "\n",
    "# loss\n",
    "plt.plot(np.arange(epochs), train.losses_train, color=\"b\", label=\"train\")\n",
    "plt.plot(np.arange(epochs), train.losses_val, color=\"r\", label=\"val\")\n",
    "plt.title(\"Loss\")\n",
    "plt.legend()\n",
    "plt.show()\n",
    "\n",
    "# accuracy\n",
    "plt.plot(np.arange(epochs), train.accuracy_train, color=\"b\",label=\"train\" )\n",
    "plt.plot(np.arange(epochs), train.accuracy_val, color=\"r\",label=\"val\")\n",
    "plt.title(\"Accuracy\")\n",
    "plt.legend()\n",
    "plt.show()"
   ]
  },
  {
   "cell_type": "code",
   "execution_count": null,
   "metadata": {},
   "outputs": [],
   "source": [
    "# save model\n",
    "torch.save(train.trained_model.state_dict(), \"trained_models/\" + \"net_\" + str(len(os.listdir(\"trained_models/\"))) + \".pt\")"
   ]
  }
 ],
 "metadata": {
  "interpreter": {
   "hash": "7e85ec9bf098c5427e45e2f632dcd4eeff803b007e1abd287d600879388709c1"
  },
  "kernelspec": {
   "display_name": "Python 3.8.10 64-bit",
   "language": "python",
   "name": "python3"
  },
  "language_info": {
   "codemirror_mode": {
    "name": "ipython",
    "version": 3
   },
   "file_extension": ".py",
   "mimetype": "text/x-python",
   "name": "python",
   "nbconvert_exporter": "python",
   "pygments_lexer": "ipython3",
   "version": "3.8.10"
  },
  "orig_nbformat": 4
 },
 "nbformat": 4,
 "nbformat_minor": 2
}
