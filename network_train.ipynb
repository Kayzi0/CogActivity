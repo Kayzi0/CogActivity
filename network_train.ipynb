{
 "cells": [
  {
   "cell_type": "code",
   "execution_count": 1,
   "metadata": {},
   "outputs": [],
   "source": [
    "from torch import nn, optim\n",
    "import numpy as np\n",
    "import pickle as p\n",
    "import torch\n",
    "from tqdm.notebook import trange\n",
    "from tqdm import tqdm\n",
    "from torchsummary import summary\n",
    "\n",
    "from network import ConvNet\n",
    "from sklearn.metrics import f1_score\n",
    "from torch.utils.data import Dataset\n",
    "from torch.utils.data import DataLoader\n",
    "from dataset import CogDataset"
   ]
  },
  {
   "cell_type": "code",
   "execution_count": 6,
   "metadata": {},
   "outputs": [],
   "source": [
    "# function for training and evaluation\n",
    "def train(model, num_epochs, train_dataloader, val_dataloader):\n",
    "    losses_train = []\n",
    "    accuracies_train = []\n",
    "    f1_train = []\n",
    "    losses_val = []\n",
    "    accuracies_val = []\n",
    "    f1_val = []\n",
    "\n",
    "    for epoch in trange(num_epochs, unit=\"epochs\"):\n",
    "\n",
    "        # training\n",
    "        running_loss = 0.0\n",
    "        running_accuracy = 0.0\n",
    "        running_f1 = 0.0\n",
    "\n",
    "        model.train()\n",
    "\n",
    "        for input, target in train_dataloader:\n",
    "\n",
    "            optimizer.zero_grad()\n",
    "\n",
    "            output = model(input)\n",
    "            \n",
    "            loss = criterion(output, target)\n",
    "            loss.backward()\n",
    "\n",
    "            running_loss += loss.item()\n",
    "\n",
    "            prediction = torch.argmax(output, dim=1)\n",
    "\n",
    "\n",
    "            for p, t in zip(prediction, target):\n",
    "                if p == t:\n",
    "                    running_accuracy+=1 \n",
    "            #running_f1 += f1_score(target, prediction, average=None)\n",
    "        \n",
    "        optimizer.step()\n",
    "\n",
    "        running_loss /= len(train_dataloader)\n",
    "        running_accuracy /= len(train_dataloader)\n",
    "        #running_f1 /= len(train_dataloader)\n",
    "\n",
    "        losses_train.append(running_loss)\n",
    "        accuracies_train.append(running_accuracy)\n",
    "        #f1_train.append(running_f1)\n",
    "\n",
    "        # output\n",
    "        tqdm.write('Epoch {} (train) -- loss: {:.4f} acc: {:.4f}'.format(epoch, running_loss, running_accuracy))\n",
    "\n",
    "\n",
    "        # validation\n",
    "        with torch.no_grad():\n",
    "\n",
    "            model.eval()\n",
    "\n",
    "            running_loss = 0.0\n",
    "            running_accuracy = 0.0\n",
    "            running_f1 = 0.0\n",
    "\n",
    "            for input, target in val_dataloader:\n",
    "\n",
    "                    output = model(input)\n",
    "                    loss = criterion(output, target)\n",
    "\n",
    "                    running_loss += loss.item()\n",
    "\n",
    "                    prediction = torch.argmax(output, dim=1).float()   \n",
    "\n",
    "                    for o, t in zip(prediction, target):\n",
    "                        if o == t:\n",
    "                            running_accuracy+=1 \n",
    "                    #running_f1 += f1_score(target, prediction)\n",
    "\n",
    "            running_loss /= len(val_dataloader)\n",
    "            running_accuracy /= len(val_dataloader)\n",
    "            #running_f1 /= len(val_dataloader)\n",
    "\n",
    "            losses_val.append(running_loss)\n",
    "            accuracies_val.append(running_accuracy)\n",
    "            #f1_val.append(running_f1)\n",
    "\n",
    "            # output\n",
    "            tqdm.write('Epoch {} (valid) -- loss: {:.4f} acc: {:.4f}'.format(epoch, running_loss, running_accuracy))\n",
    "    # make model callable outside this function\n",
    "    train.trained_model = model"
   ]
  },
  {
   "cell_type": "code",
   "execution_count": 3,
   "metadata": {},
   "outputs": [
    {
     "name": "stdout",
     "output_type": "stream",
     "text": [
      "(2284, 9, 200, 3)\n"
     ]
    }
   ],
   "source": [
    "# load data and label files\n",
    "# shape = [2284, 200, 3, 9] --> [datasets, time series, channels, devices]\n",
    "data = p.load(open(r\"data\\train.pkl\", \"rb\"))\n",
    "labels = p.load(open(r\"data\\labels.pkl\", \"rb\"))\n",
    "print(data.shape)\n",
    "\n",
    "# create datasets\n",
    "train_dataset = CogDataset(data, labels, train=True)\n",
    "train_dataloader = DataLoader(dataset=train_dataset, batch_size=3, shuffle=True)\n",
    "\n",
    "val_dataset = CogDataset(data, labels, train=False)\n",
    "val_dataloader = DataLoader(dataset=val_dataset, batch_size=3, shuffle=False)\n"
   ]
  },
  {
   "cell_type": "code",
   "execution_count": 4,
   "metadata": {},
   "outputs": [],
   "source": [
    "# define loss, optimizer etc.\n",
    "model = ConvNet()\n",
    "criterion = nn.CrossEntropyLoss()\n",
    "optimizer = optim.Adam(model.parameters())\n"
   ]
  },
  {
   "cell_type": "code",
   "execution_count": 7,
   "metadata": {},
   "outputs": [
    {
     "data": {
      "application/vnd.jupyter.widget-view+json": {
       "model_id": "c43a9d3d8aba4c61b76ce117152bd44e",
       "version_major": 2,
       "version_minor": 0
      },
      "text/plain": [
       "  0%|          | 0/20 [00:00<?, ?epochs/s]"
      ]
     },
     "metadata": {},
     "output_type": "display_data"
    },
    {
     "name": "stdout",
     "output_type": "stream",
     "text": [
      "Epoch 0 (train) -- loss: nan acc: 0.0394\n",
      "Epoch 0 (valid) -- loss: nan acc: 0.0458\n",
      "Epoch 1 (train) -- loss: nan acc: 0.0394\n",
      "Epoch 1 (valid) -- loss: nan acc: 0.0458\n",
      "Epoch 2 (train) -- loss: nan acc: 0.0411\n",
      "Epoch 2 (valid) -- loss: nan acc: 0.0458\n",
      "Epoch 3 (train) -- loss: nan acc: 0.0411\n",
      "Epoch 3 (valid) -- loss: nan acc: 0.0458\n",
      "Epoch 4 (train) -- loss: nan acc: 0.0411\n",
      "Epoch 4 (valid) -- loss: nan acc: 0.0458\n",
      "Epoch 5 (train) -- loss: nan acc: 0.0394\n",
      "Epoch 5 (valid) -- loss: nan acc: 0.0458\n",
      "Epoch 6 (train) -- loss: nan acc: 0.0394\n",
      "Epoch 6 (valid) -- loss: nan acc: 0.0458\n",
      "Epoch 7 (train) -- loss: nan acc: 0.0394\n",
      "Epoch 7 (valid) -- loss: nan acc: 0.0458\n",
      "Epoch 8 (train) -- loss: nan acc: 0.0394\n",
      "Epoch 8 (valid) -- loss: nan acc: 0.0458\n",
      "Epoch 9 (train) -- loss: nan acc: 0.0394\n",
      "Epoch 9 (valid) -- loss: nan acc: 0.0392\n",
      "Epoch 10 (train) -- loss: nan acc: 0.0394\n",
      "Epoch 10 (valid) -- loss: nan acc: 0.0458\n",
      "Epoch 11 (train) -- loss: nan acc: 0.0394\n",
      "Epoch 11 (valid) -- loss: nan acc: 0.0523\n",
      "Epoch 12 (train) -- loss: nan acc: 0.0460\n",
      "Epoch 12 (valid) -- loss: nan acc: 0.0784\n",
      "Epoch 13 (train) -- loss: nan acc: 0.0493\n",
      "Epoch 13 (valid) -- loss: nan acc: 0.1046\n",
      "Epoch 14 (train) -- loss: nan acc: 0.0509\n",
      "Epoch 14 (valid) -- loss: nan acc: 0.0654\n",
      "Epoch 15 (train) -- loss: nan acc: 0.0542\n",
      "Epoch 15 (valid) -- loss: nan acc: 0.0654\n",
      "Epoch 16 (train) -- loss: nan acc: 0.0542\n",
      "Epoch 16 (valid) -- loss: nan acc: 0.0654\n",
      "Epoch 17 (train) -- loss: nan acc: 0.0542\n",
      "Epoch 17 (valid) -- loss: nan acc: 0.0654\n",
      "Epoch 18 (train) -- loss: nan acc: 0.0542\n",
      "Epoch 18 (valid) -- loss: nan acc: 0.0654\n",
      "Epoch 19 (train) -- loss: nan acc: 0.0542\n",
      "Epoch 19 (valid) -- loss: nan acc: 0.0654\n"
     ]
    }
   ],
   "source": [
    "# train model\n",
    "train(model.double(), 20, train_dataloader, val_dataloader)"
   ]
  }
 ],
 "metadata": {
  "interpreter": {
   "hash": "7e85ec9bf098c5427e45e2f632dcd4eeff803b007e1abd287d600879388709c1"
  },
  "kernelspec": {
   "display_name": "Python 3.8.10 64-bit",
   "language": "python",
   "name": "python3"
  },
  "language_info": {
   "codemirror_mode": {
    "name": "ipython",
    "version": 3
   },
   "file_extension": ".py",
   "mimetype": "text/x-python",
   "name": "python",
   "nbconvert_exporter": "python",
   "pygments_lexer": "ipython3",
   "version": "3.8.10"
  },
  "orig_nbformat": 4
 },
 "nbformat": 4,
 "nbformat_minor": 2
}
