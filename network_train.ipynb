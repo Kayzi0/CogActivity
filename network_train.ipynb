{
 "cells": [
  {
   "cell_type": "code",
   "execution_count": 1,
   "metadata": {},
   "outputs": [],
   "source": [
    "from torch import nn, optim\n",
    "import numpy as np\n",
    "import pickle as p\n",
    "import torch\n",
    "from tqdm.notebook import trange\n",
    "from tqdm import tqdm\n",
    "import os\n",
    "import matplotlib.pyplot as plt\n",
    "\n",
    "from network import ConvNet\n",
    "from sklearn.metrics import f1_score\n",
    "from torch.utils.data import Dataset\n",
    "from torch.utils.data import DataLoader\n",
    "from dataset import CogDataset"
   ]
  },
  {
   "cell_type": "code",
   "execution_count": 2,
   "metadata": {},
   "outputs": [],
   "source": [
    "# function for training and evaluation\n",
    "def train(model, num_epochs, train_dataloader, val_dataloader):\n",
    "    losses_train = []\n",
    "    accuracies_train = []\n",
    "    f1_train = []\n",
    "    losses_val = []\n",
    "    accuracies_val = []\n",
    "    f1_val = []\n",
    "\n",
    "    for epoch in trange(num_epochs, unit=\"epochs\"):\n",
    "\n",
    "        # training\n",
    "        running_loss = 0.0\n",
    "        running_accuracy = 0.0\n",
    "        running_f1 = 0.0\n",
    "\n",
    "        model.train()\n",
    "\n",
    "        for input, target in train_dataloader:\n",
    "\n",
    "            optimizer.zero_grad()\n",
    "\n",
    "            output = model(input)\n",
    "            \n",
    "            loss = criterion(output, target)\n",
    "            loss.backward()\n",
    "\n",
    "            running_loss += loss.item()\n",
    "\n",
    "            prediction = torch.argmax(output, dim=1)\n",
    "\n",
    "\n",
    "            for p, t in zip(prediction, target):\n",
    "                if p == t:\n",
    "                    running_accuracy+=1 \n",
    "            #running_f1 += f1_score(target, prediction, average=None)\n",
    "        \n",
    "        optimizer.step()\n",
    "\n",
    "        running_loss /= (len(train_dataloader)*batch_size)\n",
    "        running_accuracy /= (len(train_dataloader) * batch_size)\n",
    "        #running_f1 /= len(train_dataloader)\n",
    "\n",
    "        losses_train.append(running_loss)\n",
    "        accuracies_train.append(running_accuracy)\n",
    "        #f1_train.append(running_f1)\n",
    "\n",
    "        # output\n",
    "        if epoch % 1 == 0:\n",
    "            tqdm.write('Epoch {} (train) -- loss: {:.4f} acc: {:.4f}'.format(epoch, running_loss, running_accuracy))\n",
    "\n",
    "\n",
    "        # validation\n",
    "        with torch.no_grad():\n",
    "\n",
    "            model.eval()\n",
    "\n",
    "            running_loss = 0.0\n",
    "            running_accuracy = 0.0\n",
    "            running_f1 = 0.0\n",
    "\n",
    "            for input, target in val_dataloader:\n",
    "\n",
    "                    output = model(input)\n",
    "                    loss = criterion(output, target)\n",
    "\n",
    "                    running_loss += loss.item()\n",
    "\n",
    "                    prediction = torch.argmax(output, dim=1).float()   \n",
    "\n",
    "                    for o, t in zip(prediction, target):\n",
    "                        if o == t:\n",
    "                            running_accuracy+=1 \n",
    "                    #running_f1 += f1_score(target, prediction)\n",
    "\n",
    "            running_loss /= (len(val_dataloader)*batch_size)\n",
    "            running_accuracy /= (len(val_dataloader)*batch_size)\n",
    "            #running_f1 /= len(val_dataloader)\n",
    "\n",
    "            losses_val.append(running_loss)\n",
    "            accuracies_val.append(running_accuracy)\n",
    "            #f1_val.append(running_f1)\n",
    "\n",
    "            # output\n",
    "            if epoch % 1 == 0:\n",
    "                tqdm.write('Epoch {} (valid) -- loss: {:.4f} acc: {:.4f}'.format(epoch, running_loss, running_accuracy))\n",
    "    # make model callable outside this function\n",
    "    train.trained_model = model\n",
    "    train.losses_train = losses_train\n",
    "    train.losses_val = losses_val\n",
    "    train.accuracy_train = accuracies_train\n",
    "    train.accuracy_val = accuracies_val"
   ]
  },
  {
   "cell_type": "code",
   "execution_count": 3,
   "metadata": {},
   "outputs": [
    {
     "name": "stdout",
     "output_type": "stream",
     "text": [
      "(2284, 8, 200, 3)\n"
     ]
    }
   ],
   "source": [
    "# load data and label files\n",
    "# shape = [2284, 200, 3, 9] --> [datasets, time series, channels, devices]\n",
    "data = p.load(open(r\"data/train.pkl\", \"rb\"))\n",
    "labels = p.load(open(r\"data/labels.pkl\", \"rb\"))\n",
    "print(data.shape)\n",
    "\n",
    "batch_size = 10\n",
    "\n",
    "\n"
   ]
  },
  {
   "cell_type": "code",
   "execution_count": 4,
   "metadata": {},
   "outputs": [
    {
     "name": "stdout",
     "output_type": "stream",
     "text": [
      "(2284, 24, 200)\n"
     ]
    }
   ],
   "source": [
    "#reshape data into datasets x (channels x devices) x time series \n",
    "data = data.transpose((0,1,3,2))\n",
    "data = data.reshape(data.shape[0], -1, data.shape[3])\n",
    "print(data.shape)"
   ]
  },
  {
   "cell_type": "code",
   "execution_count": 5,
   "metadata": {},
   "outputs": [],
   "source": [
    "# create datasets\n",
    "train_dataset = CogDataset(data, labels, train=True)\n",
    "train_dataloader = DataLoader(dataset=train_dataset, batch_size=batch_size, shuffle=True)\n",
    "\n",
    "val_dataset = CogDataset(data, labels, train=False)\n",
    "val_dataloader = DataLoader(dataset=val_dataset, batch_size=batch_size, shuffle=False)"
   ]
  },
  {
   "cell_type": "code",
   "execution_count": 6,
   "metadata": {},
   "outputs": [
    {
     "name": "stdout",
     "output_type": "stream",
     "text": [
      "tensor([0.9987, 0.9867, 0.9752, 0.9867, 0.9230, 0.9867, 0.9867, 0.9428, 0.9327,\n",
      "        1.4299, 0.9532, 0.9987, 1.0111, 1.0111, 1.0111, 0.9867, 1.0111, 0.9987,\n",
      "        0.9640, 1.0111, 0.9327, 0.9752, 1.0111, 0.9640, 0.9230, 1.4299, 0.9640,\n",
      "        0.9987, 0.9640, 0.9987, 0.9640, 1.0240, 0.9987, 0.9752, 0.9752, 0.9428,\n",
      "        1.0111, 1.0111, 0.9752, 0.9867, 0.9867, 0.9867, 0.9640, 1.0111, 1.0111,\n",
      "        0.9752, 0.9532, 0.9987, 1.0111, 1.0240, 0.9987, 1.0111, 0.9640, 0.9987,\n",
      "        0.9752])\n"
     ]
    }
   ],
   "source": [
    "label_counts = torch.from_numpy(labels).bincount().float()\n",
    "weights = np.sqrt(1/label_counts)\n",
    "weights /= weights.mean()\n",
    "print(weights)"
   ]
  },
  {
   "cell_type": "code",
   "execution_count": 7,
   "metadata": {},
   "outputs": [],
   "source": [
    "# define loss, optimizer etc.\n",
    "model = ConvNet()\n",
    "epochs = 20\n",
    "lr = 0.001\n",
    "criterion = nn.CrossEntropyLoss(weight = weights.double())\n",
    "optimizer = optim.Adam(model.parameters(), lr)\n"
   ]
  },
  {
   "cell_type": "code",
   "execution_count": 8,
   "metadata": {},
   "outputs": [
    {
     "data": {
      "application/vnd.jupyter.widget-view+json": {
       "model_id": "c09d9469f0994805b88a5661eebd414e",
       "version_major": 2,
       "version_minor": 0
      },
      "text/plain": [
       "  0%|          | 0/20 [00:00<?, ?epochs/s]"
      ]
     },
     "metadata": {},
     "output_type": "display_data"
    },
    {
     "name": "stdout",
     "output_type": "stream",
     "text": [
      "Epoch 0 (train) -- loss: 0.4085 acc: 0.0268\n",
      "Epoch 0 (valid) -- loss: 0.4108 acc: 0.0048\n",
      "Epoch 1 (train) -- loss: 0.4068 acc: 0.0388\n",
      "Epoch 1 (valid) -- loss: 0.4101 acc: 0.0048\n",
      "Epoch 2 (train) -- loss: 0.4065 acc: 0.0448\n",
      "Epoch 2 (valid) -- loss: 0.4106 acc: 0.0046\n",
      "Epoch 3 (train) -- loss: 0.4065 acc: 0.0437\n",
      "Epoch 3 (valid) -- loss: 0.4098 acc: 0.0053\n",
      "Epoch 4 (train) -- loss: 0.4064 acc: 0.0508\n",
      "Epoch 4 (valid) -- loss: 0.4102 acc: 0.0046\n",
      "Epoch 5 (train) -- loss: 0.4067 acc: 0.0536\n",
      "Epoch 5 (valid) -- loss: 0.4093 acc: 0.0039\n",
      "Epoch 6 (train) -- loss: 0.4069 acc: 0.0579\n",
      "Epoch 6 (valid) -- loss: 0.4083 acc: 0.0057\n",
      "Epoch 7 (train) -- loss: 0.4068 acc: 0.0557\n",
      "Epoch 7 (valid) -- loss: 0.4076 acc: 0.0050\n",
      "Epoch 8 (train) -- loss: 0.4058 acc: 0.0612\n",
      "Epoch 8 (valid) -- loss: 0.4065 acc: 0.0057\n",
      "Epoch 9 (train) -- loss: 0.4058 acc: 0.0667\n",
      "Epoch 9 (valid) -- loss: 0.4055 acc: 0.0063\n",
      "Epoch 10 (train) -- loss: 0.4049 acc: 0.0760\n",
      "Epoch 10 (valid) -- loss: 0.4038 acc: 0.0061\n",
      "Epoch 11 (train) -- loss: 0.4047 acc: 0.0727\n",
      "Epoch 11 (valid) -- loss: 0.4039 acc: 0.0079\n",
      "Epoch 12 (train) -- loss: 0.4039 acc: 0.0770\n",
      "Epoch 12 (valid) -- loss: 0.4022 acc: 0.0088\n",
      "Epoch 13 (train) -- loss: 0.4035 acc: 0.0880\n",
      "Epoch 13 (valid) -- loss: 0.3998 acc: 0.0096\n",
      "Epoch 14 (train) -- loss: 0.4021 acc: 0.0896\n",
      "Epoch 14 (valid) -- loss: 0.4011 acc: 0.0092\n",
      "Epoch 15 (train) -- loss: 0.4028 acc: 0.0945\n",
      "Epoch 15 (valid) -- loss: 0.3992 acc: 0.0096\n",
      "Epoch 16 (train) -- loss: 0.4017 acc: 0.0962\n",
      "Epoch 16 (valid) -- loss: 0.3997 acc: 0.0096\n",
      "Epoch 17 (train) -- loss: 0.4023 acc: 0.0891\n",
      "Epoch 17 (valid) -- loss: 0.4025 acc: 0.0094\n",
      "Epoch 18 (train) -- loss: 0.4010 acc: 0.0984\n",
      "Epoch 18 (valid) -- loss: 0.3992 acc: 0.0107\n",
      "Epoch 19 (train) -- loss: 0.4014 acc: 0.0885\n",
      "Epoch 19 (valid) -- loss: 0.3993 acc: 0.0103\n"
     ]
    }
   ],
   "source": [
    "# train model\n",
    "train(model.double(), epochs, train_dataloader, val_dataloader)"
   ]
  },
  {
   "cell_type": "code",
   "execution_count": 9,
   "metadata": {},
   "outputs": [
    {
     "data": {
      "image/png": "[encoded data removed]",
      "text/plain": [
       "<Figure size 432x288 with 1 Axes>"
      ]
     },
     "metadata": {
      "needs_background": "light"
     },
     "output_type": "display_data"
    },
    {
     "data": {
      "image/png": "[encoded data removed]",
      "text/plain": [
       "<Figure size 432x288 with 1 Axes>"
      ]
     },
     "metadata": {
      "needs_background": "light"
     },
     "output_type": "display_data"
    }
   ],
   "source": [
    "# plot metrics\n",
    "\n",
    "# loss\n",
    "plt.plot(np.arange(epochs), train.losses_train, color=\"b\", label=\"train\")\n",
    "plt.plot(np.arange(epochs), train.losses_val, color=\"r\", label=\"val\")\n",
    "plt.title(\"Loss\")\n",
    "plt.legend()\n",
    "plt.show()\n",
    "\n",
    "# accuracy\n",
    "plt.plot(np.arange(epochs), train.accuracy_train, color=\"b\",label=\"train\" )\n",
    "plt.plot(np.arange(epochs), train.accuracy_val, color=\"r\",label=\"val\")\n",
    "plt.title(\"Accuracy\")\n",
    "plt.legend()\n",
    "plt.show()"
   ]
  },
  {
   "cell_type": "code",
   "execution_count": 10,
   "metadata": {},
   "outputs": [],
   "source": [
    "# save model\n",
    "torch.save(train.trained_model.state_dict(), \"trained_models/\" + \"net_\" + str(len(os.listdir(\"trained_models/\"))) + \".pt\")"
   ]
  }
 ],
 "metadata": {
  "interpreter": {
   "hash": "7e85ec9bf098c5427e45e2f632dcd4eeff803b007e1abd287d600879388709c1"
  },
  "kernelspec": {
   "display_name": "Python 3.8.10 64-bit",
   "language": "python",
   "name": "python3"
  },
  "language_info": {
   "codemirror_mode": {
    "name": "ipython",
    "version": 3
   },
   "file_extension": ".py",
   "mimetype": "text/x-python",
   "name": "python",
   "nbconvert_exporter": "python",
   "pygments_lexer": "ipython3",
   "version": "3.8.10"
  },
  "orig_nbformat": 4
 },
 "nbformat": 4,
 "nbformat_minor": 2
}
