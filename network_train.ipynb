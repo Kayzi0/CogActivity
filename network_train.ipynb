{
 "cells": [
  {
   "cell_type": "code",
   "execution_count": 4,
   "metadata": {},
   "outputs": [],
   "source": [
    "from torch import nn, optim\n",
    "import numpy as np\n",
    "import pickle as p\n",
    "import torch\n",
    "from tqdm.notebook import trange\n",
    "from tqdm import tqdm\n",
    "from torchsummary import summary\n",
    "\n",
    "from network import ConvNet\n",
    "from sklearn.metrics import f1_score\n",
    "from torch.utils.data import Dataset\n",
    "from torch.utils.data import DataLoader\n",
    "from dataset import CogDataset"
   ]
  },
  {
   "cell_type": "code",
   "execution_count": 16,
   "metadata": {},
   "outputs": [],
   "source": [
    "# function for training and evaluation\n",
    "def train(model, num_epochs, train_dataloader, val_dataloader):\n",
    "    losses_train = []\n",
    "    accuracies_train = []\n",
    "    f1_train = []\n",
    "    losses_val = []\n",
    "    accuracies_val = []\n",
    "    f1_val = []\n",
    "\n",
    "    for epoch in trange(num_epochs, unit=\"epochs\"):\n",
    "\n",
    "        # training\n",
    "        running_loss = 0.0\n",
    "        running_accuracy = 0.0\n",
    "        running_f1 = 0.0\n",
    "\n",
    "        model.train()\n",
    "\n",
    "        for input, target in train_dataloader:\n",
    "\n",
    "            optimizer.zero_grad()\n",
    "\n",
    "            output = model(input)\n",
    "            \n",
    "            loss = criterion(output, target)\n",
    "            loss.backward()\n",
    "\n",
    "            running_loss += loss.item()\n",
    "\n",
    "            prediction = torch.argmax(output, dim=1)\n",
    "\n",
    "\n",
    "            for p, t in zip(prediction, target):\n",
    "                if p == t:\n",
    "                    running_accuracy+=1 \n",
    "            #running_f1 += f1_score(target, prediction, average=None)\n",
    "        \n",
    "        optimizer.step()\n",
    "\n",
    "        running_loss /= len(train_dataloader)\n",
    "        running_accuracy /= len(train_dataloader)\n",
    "        #running_f1 /= len(train_dataloader)\n",
    "\n",
    "        losses_train.append(running_loss)\n",
    "        accuracies_train.append(running_accuracy)\n",
    "        #f1_train.append(running_f1)\n",
    "\n",
    "        # output\n",
    "        tqdm.write('Epoch {} (train) -- loss: {:.4f} acc: {:.4f}'.format(epoch, running_loss, running_accuracy))\n",
    "\n",
    "\n",
    "        # validation\n",
    "        with torch.no_grad():\n",
    "\n",
    "            model.eval()\n",
    "\n",
    "            running_loss = 0.0\n",
    "            running_accuracy = 0.0\n",
    "            running_f1 = 0.0\n",
    "\n",
    "            for input, target in val_dataloader:\n",
    "\n",
    "                    output = model(input)\n",
    "                    loss = criterion(output, target)\n",
    "\n",
    "                    running_loss += loss.item()\n",
    "\n",
    "                    prediction = torch.argmax(output, dim=1).float()   \n",
    "\n",
    "                    for o, t in zip(prediction, target):\n",
    "                        if o == t:\n",
    "                            running_accuracy+=1 \n",
    "                    #running_f1 += f1_score(target, prediction)\n",
    "\n",
    "            running_loss /= len(val_dataloader)\n",
    "            running_accuracy /= len(val_dataloader)\n",
    "            #running_f1 /= len(val_dataloader)\n",
    "\n",
    "            losses_val.append(running_loss)\n",
    "            accuracies_val.append(running_accuracy)\n",
    "            #f1_val.append(running_f1)\n",
    "\n",
    "            # output\n",
    "            tqdm.write('Epoch {} (valid) -- loss: {:.4f} acc: {:.4f}'.format(epoch, running_loss, running_accuracy))\n",
    "    # make model callable outside this function\n",
    "    train.trained_model = model\n",
    "    train.losses_train = losses_train\n",
    "    train.losses_val = losses_val\n",
    "    train.accuracy_train = accuracy_train\n",
    "    train.accuracy_val = accuracy_val"
   ]
  },
  {
   "cell_type": "code",
   "execution_count": 6,
   "metadata": {},
   "outputs": [
    {
     "name": "stdout",
     "output_type": "stream",
     "text": [
      "(2284, 8, 200, 3)\n"
     ]
    }
   ],
   "source": [
    "# load data and label files\n",
    "# shape = [2284, 200, 3, 9] --> [datasets, time series, channels, devices]\n",
    "data = p.load(open(r\"data/train.pkl\", \"rb\"))\n",
    "labels = p.load(open(r\"data/labels.pkl\", \"rb\"))\n",
    "print(data.shape)\n",
    "\n",
    "# create datasets\n",
    "train_dataset = CogDataset(data, labels, train=True)\n",
    "train_dataloader = DataLoader(dataset=train_dataset, batch_size=3, shuffle=True)\n",
    "\n",
    "val_dataset = CogDataset(data, labels, train=False)\n",
    "val_dataloader = DataLoader(dataset=val_dataset, batch_size=3, shuffle=False)\n"
   ]
  },
  {
   "cell_type": "code",
   "execution_count": 7,
   "metadata": {},
   "outputs": [
    {
     "name": "stdout",
     "output_type": "stream",
     "text": [
      "tensor([0.9987, 0.9867, 0.9752, 0.9867, 0.9230, 0.9867, 0.9867, 0.9428, 0.9327,\n",
      "        1.4299, 0.9532, 0.9987, 1.0111, 1.0111, 1.0111, 0.9867, 1.0111, 0.9987,\n",
      "        0.9640, 1.0111, 0.9327, 0.9752, 1.0111, 0.9640, 0.9230, 1.4299, 0.9640,\n",
      "        0.9987, 0.9640, 0.9987, 0.9640, 1.0240, 0.9987, 0.9752, 0.9752, 0.9428,\n",
      "        1.0111, 1.0111, 0.9752, 0.9867, 0.9867, 0.9867, 0.9640, 1.0111, 1.0111,\n",
      "        0.9752, 0.9532, 0.9987, 1.0111, 1.0240, 0.9987, 1.0111, 0.9640, 0.9987,\n",
      "        0.9752])\n"
     ]
    }
   ],
   "source": [
    "label_counts = torch.from_numpy(labels).bincount().float()\n",
    "weights = np.sqrt(1/label_counts)\n",
    "weights /= weights.mean()\n",
    "print(weights)"
   ]
  },
  {
   "cell_type": "code",
   "execution_count": 10,
   "metadata": {},
   "outputs": [],
   "source": [
    "# define loss, optimizer etc.\n",
    "model = ConvNet()\n",
    "criterion = nn.CrossEntropyLoss(weight = weights.double())\n",
    "optimizer = optim.Adam(model.parameters())\n"
   ]
  },
  {
   "cell_type": "code",
   "execution_count": 17,
   "metadata": {},
   "outputs": [
    {
     "data": {
      "application/vnd.jupyter.widget-view+json": {
       "model_id": "bc544930f3484b5a86792e14c8e9bd76",
       "version_major": 2,
       "version_minor": 0
      },
      "text/plain": [
       "  0%|          | 0/20 [00:00<?, ?epochs/s]"
      ]
     },
     "metadata": {},
     "output_type": "display_data"
    },
    {
     "name": "stdout",
     "output_type": "stream",
     "text": [
      "Epoch 0 (train) -- loss: 3.9039 acc: 0.1445\n",
      "Epoch 0 (valid) -- loss: 3.8743 acc: 0.1111\n",
      "Epoch 1 (train) -- loss: 3.9021 acc: 0.1166\n",
      "Epoch 1 (valid) -- loss: 3.8675 acc: 0.1176\n",
      "Epoch 2 (train) -- loss: 3.8996 acc: 0.1199\n",
      "Epoch 2 (valid) -- loss: 3.8676 acc: 0.1046\n",
      "Epoch 3 (train) -- loss: 3.9038 acc: 0.1314\n",
      "Epoch 3 (valid) -- loss: 3.8663 acc: 0.1176\n",
      "Epoch 4 (train) -- loss: 3.8933 acc: 0.1445\n",
      "Epoch 4 (valid) -- loss: 3.8658 acc: 0.1111\n",
      "Epoch 5 (train) -- loss: 3.9059 acc: 0.1232\n",
      "Epoch 5 (valid) -- loss: 3.8651 acc: 0.0915\n",
      "Epoch 6 (train) -- loss: 3.9037 acc: 0.1297\n",
      "Epoch 6 (valid) -- loss: 3.8611 acc: 0.1046\n",
      "Epoch 7 (train) -- loss: 3.9011 acc: 0.1379\n",
      "Epoch 7 (valid) -- loss: 3.8592 acc: 0.1111\n",
      "Epoch 8 (train) -- loss: 3.8990 acc: 0.1264\n",
      "Epoch 8 (valid) -- loss: 3.8556 acc: 0.1111\n",
      "Epoch 9 (train) -- loss: 3.8909 acc: 0.1363\n",
      "Epoch 9 (valid) -- loss: 3.8574 acc: 0.0980\n"
     ]
    }
   ],
   "source": [
    "# train model\n",
    "epochs = 20\n",
    "train(model.double(), epochs, train_dataloader, val_dataloader)"
   ]
  },
  {
   "cell_type": "code",
   "execution_count": 15,
   "metadata": {},
   "outputs": [
    {
     "data": {
      "image/png": "[encoded data removed]",
      "text/plain": [
       "<Figure size 432x288 with 1 Axes>"
      ]
     },
     "metadata": {
      "needs_background": "light"
     },
     "output_type": "display_data"
    }
   ],
   "source": [
    "import matplotlib.pyplot as plt\n",
    "\n",
    "plt.plot(np.arange(epochs), train.losses_train, color=\"b\")\n",
    "plt.plot(np.arange(epochs), train.losses_val, color=\"r\")\n",
    "plt.title(\"Loss\")\n",
    "plt.show()\n",
    "\n",
    "plt.plot(np.arange(epochs), train.accuracy_train, color=\"b\")\n",
    "plt.plot(np.arange(epochs), train.accuracy_val, color=\"r\")\n",
    "plt.title(\"Accuracy\")\n",
    "plt.show()"
   ]
  }
 ],
 "metadata": {
  "interpreter": {
   "hash": "7e85ec9bf098c5427e45e2f632dcd4eeff803b007e1abd287d600879388709c1"
  },
  "kernelspec": {
   "display_name": "Python 3.8.10 64-bit",
   "language": "python",
   "name": "python3"
  },
  "language_info": {
   "codemirror_mode": {
    "name": "ipython",
    "version": 3
   },
   "file_extension": ".py",
   "mimetype": "text/x-python",
   "name": "python",
   "nbconvert_exporter": "python",
   "pygments_lexer": "ipython3",
   "version": "3.8.10"
  },
  "orig_nbformat": 4
 },
 "nbformat": 4,
 "nbformat_minor": 2
}
