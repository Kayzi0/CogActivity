{
 "cells": [
  {
   "cell_type": "code",
   "execution_count": 24,
   "metadata": {},
   "outputs": [],
   "source": [
    "from torch import nn, optim\n",
    "import numpy as np\n",
    "import pickle as p\n",
    "import torch\n",
    "from tqdm.notebook import trange\n",
    "import tqdm\n",
    "\n",
    "from network import ConvNet\n",
    "from sklearn.metrics import f1_score\n",
    "from torch.utils.data import Dataset\n",
    "from torch.utils.data import DataLoader\n",
    "from dataset import CogDataset"
   ]
  },
  {
   "cell_type": "code",
   "execution_count": 25,
   "metadata": {},
   "outputs": [],
   "source": [
    "# function for training and evaluation\n",
    "def train(model, num_epochs):\n",
    "    losses_train = []\n",
    "    accuracies_train = []\n",
    "    f1_train = []\n",
    "    losses_val = []\n",
    "    accuracies_val = []\n",
    "    f1_val = []\n",
    "\n",
    "    for epoch in trange(num_epochs, unit=\"epochs\"):\n",
    "\n",
    "        # training\n",
    "        running_loss = 0.0\n",
    "        running_accuracy = 0.0\n",
    "        running_f1 = 0.0\n",
    "\n",
    "        model.train()\n",
    "\n",
    "        input, target = next(iter(train_dataloader))\n",
    "\n",
    "        optimizer.zero_grad()\n",
    "\n",
    "        output = model(input)\n",
    "        loss = criterion(output, target)\n",
    "        loss.backward()\n",
    "\n",
    "        running_loss += loss.item()\n",
    "        for o, t in zip(output, target):\n",
    "            if o == t:\n",
    "               running_acurracy+=1 \n",
    "        running_f1 += f1_score(target, output)\n",
    "    \n",
    "    optimizer.step()\n",
    "\n",
    "    running_loss /= len(train_dataloader)\n",
    "    running_accuracy /= len(train_dataloader)\n",
    "    running_f1 /= len(train_dataloader)\n",
    "\n",
    "    losses_train.append(running_loss)\n",
    "    accuracies_train.append(running_accuracy)\n",
    "    f1_train.append(running_f1)\n",
    "\n",
    "     # output\n",
    "    tqdm.write('Epoch {} (train) -- loss: {:.4f} f1: {:.4f}'.format(epoch, running_loss, f1))\n",
    "\n",
    "\n",
    "    # validation\n",
    "    with torch.no_grad():\n",
    "\n",
    "        model.eval()\n",
    "\n",
    "        running_loss = 0.0\n",
    "        running_accuracy = 0.0\n",
    "        running_f1 = 0.0\n",
    "\n",
    "        for input, target in val_dataloader:\n",
    "\n",
    "            output = model(input)\n",
    "            loss = criterion(output, target)\n",
    "\n",
    "            running_loss += loss.item()\n",
    "            for o, t in zip(output, target):\n",
    "                if o == t:\n",
    "                    running_acurracy+=1 \n",
    "            running_f1 += f1_score(target, output)\n",
    "\n",
    "        running_loss /= len(val_dataloader)\n",
    "        running_accuracy /= len(val_dataloader)\n",
    "        running_f1 /= len(val_dataloader)\n",
    "\n",
    "        losses_val.append(running_loss)\n",
    "        accuracies_val.append(running_accuracy)\n",
    "        f1_val.append(running_f1)\n",
    "\n",
    "        # output\n",
    "        tqdm.write('Epoch {} (valid) -- loss: {:.4f} f1: {:.4f}'.format(epoch, running_loss, f1))\n",
    "    # make model callable outside this function\n",
    "    train.trained_model = model\n",
    "\n",
    "\n",
    "    \n",
    "    \n"
   ]
  },
  {
   "cell_type": "code",
   "execution_count": 21,
   "metadata": {},
   "outputs": [
    {
     "name": "stdout",
     "output_type": "stream",
     "text": [
      "torch.Size([2284])\n"
     ]
    }
   ],
   "source": [
    "# load data and label files\n",
    "train_files = torch.from_numpy(p.load(open(r\"data\\train.pkl\", \"rb\")))\n",
    "label_files = torch.from_numpy(p.load(open(r\"data\\labels.pkl\", \"rb\")))\n",
    "\n",
    "\n",
    "# create dataset\n",
    "train_dataset = CogDataset(train=True)\n",
    "train_dataloader = DataLoader(dataset=train_dataset, batch_size=3, shuffle=True)"
   ]
  },
  {
   "cell_type": "code",
   "execution_count": null,
   "metadata": {},
   "outputs": [],
   "source": [
    "# define loss, optimizer etc.\n",
    "model = ConvNet()\n",
    "criterion = nn.CrossEntropyLoss()\n",
    "optimizer = optim.Adam(model.parameters())"
   ]
  },
  {
   "cell_type": "code",
   "execution_count": null,
   "metadata": {},
   "outputs": [],
   "source": [
    "# train model\n",
    "train(model, 20)"
   ]
  }
 ],
 "metadata": {
  "interpreter": {
   "hash": "7e85ec9bf098c5427e45e2f632dcd4eeff803b007e1abd287d600879388709c1"
  },
  "kernelspec": {
   "display_name": "Python 3.8.10 64-bit",
   "language": "python",
   "name": "python3"
  },
  "language_info": {
   "codemirror_mode": {
    "name": "ipython",
    "version": 3
   },
   "file_extension": ".py",
   "mimetype": "text/x-python",
   "name": "python",
   "nbconvert_exporter": "python",
   "pygments_lexer": "ipython3",
   "version": "3.8.10"
  },
  "orig_nbformat": 4
 },
 "nbformat": 4,
 "nbformat_minor": 2
}
