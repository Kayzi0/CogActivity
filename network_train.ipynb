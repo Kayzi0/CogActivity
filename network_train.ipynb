{
 "cells": [
  {
   "cell_type": "code",
   "execution_count": 36,
   "metadata": {},
   "outputs": [],
   "source": [
    "from torch import nn, optim\n",
    "import numpy as np\n",
    "import pickle as p\n",
    "import torch\n",
    "from tqdm.notebook import trange\n",
    "from tqdm import tqdm\n",
    "import os\n",
    "import matplotlib.pyplot as plt\n",
    "\n",
    "from network import ConvNet\n",
    "from sklearn.metrics import f1_score\n",
    "from torch.utils.data import Dataset\n",
    "from torch.utils.data import DataLoader\n",
    "from dataset import CogDataset"
   ]
  },
  {
   "cell_type": "code",
   "execution_count": 54,
   "metadata": {},
   "outputs": [],
   "source": [
    "# function for training and evaluation\n",
    "def train(model, num_epochs, train_dataloader, val_dataloader):\n",
    "    losses_train = []\n",
    "    accuracies_train = []\n",
    "    f1_train = []\n",
    "    losses_val = []\n",
    "    accuracies_val = []\n",
    "    f1_val = []\n",
    "\n",
    "    for epoch in trange(num_epochs, unit=\"epochs\"):\n",
    "\n",
    "        # training\n",
    "        running_loss = 0.0\n",
    "        running_accuracy = 0.0\n",
    "        running_f1 = 0.0\n",
    "\n",
    "        model.train()\n",
    "\n",
    "        for input, target in train_dataloader:\n",
    "\n",
    "            optimizer.zero_grad()\n",
    "\n",
    "            output = model(input)\n",
    "            \n",
    "            loss = criterion(output, target)\n",
    "            loss.backward()\n",
    "\n",
    "            running_loss += loss.item()\n",
    "\n",
    "            prediction = torch.argmax(output, dim=1)\n",
    "\n",
    "\n",
    "            for p, t in zip(prediction, target):\n",
    "                if p == t:\n",
    "                    running_accuracy+=1 \n",
    "            #running_f1 += f1_score(target, prediction, average=None)\n",
    "        \n",
    "        optimizer.step()\n",
    "\n",
    "        running_loss /= (len(train_dataloader)*batch_size)\n",
    "        running_accuracy /= (len(train_dataloader) * batch_size)\n",
    "        #running_f1 /= len(train_dataloader)\n",
    "\n",
    "        losses_train.append(running_loss)\n",
    "        accuracies_train.append(running_accuracy)\n",
    "        #f1_train.append(running_f1)\n",
    "\n",
    "        # output\n",
    "        if epoch % 20 == 0:\n",
    "            tqdm.write('Epoch {} (train) -- loss: {:.4f} acc: {:.4f}'.format(epoch, running_loss, running_accuracy))\n",
    "\n",
    "\n",
    "        # validation\n",
    "        with torch.no_grad():\n",
    "\n",
    "            model.eval()\n",
    "\n",
    "            running_loss = 0.0\n",
    "            running_accuracy = 0.0\n",
    "            running_f1 = 0.0\n",
    "\n",
    "            for input, target in val_dataloader:\n",
    "\n",
    "                    output = model(input)\n",
    "                    loss = criterion(output, target)\n",
    "\n",
    "                    running_loss += loss.item()\n",
    "\n",
    "                    prediction = torch.argmax(output, dim=1).float()   \n",
    "\n",
    "                    for o, t in zip(prediction, target):\n",
    "                        if o == t:\n",
    "                            running_accuracy+=1 \n",
    "                    #running_f1 += f1_score(target, prediction)\n",
    "\n",
    "            running_loss /= (len(val_dataloader)*batch_size)\n",
    "            running_accuracy /= (len(val_dataloader)*batch_size)\n",
    "            #running_f1 /= len(val_dataloader)\n",
    "\n",
    "            losses_val.append(running_loss)\n",
    "            accuracies_val.append(running_accuracy)\n",
    "            #f1_val.append(running_f1)\n",
    "\n",
    "            # output\n",
    "            if epoch % 20 == 0:\n",
    "                tqdm.write('Epoch {} (valid) -- loss: {:.4f} acc: {:.4f}'.format(epoch, running_loss, running_accuracy))\n",
    "    # make model callable outside this function\n",
    "    train.trained_model = model\n",
    "    train.losses_train = losses_train\n",
    "    train.losses_val = losses_val\n",
    "    train.accuracy_train = accuracies_train\n",
    "    train.accuracy_val = accuracies_val"
   ]
  },
  {
   "cell_type": "code",
   "execution_count": 55,
   "metadata": {},
   "outputs": [
    {
     "name": "stdout",
     "output_type": "stream",
     "text": [
      "(2284, 8, 200, 3)\n"
     ]
    }
   ],
   "source": [
    "# load data and label files\n",
    "# shape = [2284, 200, 3, 9] --> [datasets, time series, channels, devices]\n",
    "data = p.load(open(r\"data/train.pkl\", \"rb\"))\n",
    "labels = p.load(open(r\"data/labels.pkl\", \"rb\"))\n",
    "print(data.shape)\n",
    "\n",
    "batch_size = 10\n",
    "\n",
    "# create datasets\n",
    "train_dataset = CogDataset(data, labels, train=True)\n",
    "train_dataloader = DataLoader(dataset=train_dataset, batch_size=batch_size, shuffle=True)\n",
    "\n",
    "val_dataset = CogDataset(data, labels, train=False)\n",
    "val_dataloader = DataLoader(dataset=val_dataset, batch_size=1, shuffle=False)\n"
   ]
  },
  {
   "cell_type": "code",
   "execution_count": 39,
   "metadata": {},
   "outputs": [
    {
     "name": "stdout",
     "output_type": "stream",
     "text": [
      "tensor([0.9987, 0.9867, 0.9752, 0.9867, 0.9230, 0.9867, 0.9867, 0.9428, 0.9327,\n",
      "        1.4299, 0.9532, 0.9987, 1.0111, 1.0111, 1.0111, 0.9867, 1.0111, 0.9987,\n",
      "        0.9640, 1.0111, 0.9327, 0.9752, 1.0111, 0.9640, 0.9230, 1.4299, 0.9640,\n",
      "        0.9987, 0.9640, 0.9987, 0.9640, 1.0240, 0.9987, 0.9752, 0.9752, 0.9428,\n",
      "        1.0111, 1.0111, 0.9752, 0.9867, 0.9867, 0.9867, 0.9640, 1.0111, 1.0111,\n",
      "        0.9752, 0.9532, 0.9987, 1.0111, 1.0240, 0.9987, 1.0111, 0.9640, 0.9987,\n",
      "        0.9752])\n"
     ]
    }
   ],
   "source": [
    "label_counts = torch.from_numpy(labels).bincount().float()\n",
    "weights = np.sqrt(1/label_counts)\n",
    "weights /= weights.mean()\n",
    "print(weights)"
   ]
  },
  {
   "cell_type": "code",
   "execution_count": 59,
   "metadata": {},
   "outputs": [],
   "source": [
    "# define loss, optimizer etc.\n",
    "model = ConvNet()\n",
    "epochs = 500\n",
    "lr = 0.001\n",
    "criterion = nn.CrossEntropyLoss(weight = weights.double())\n",
    "optimizer = optim.Adam(model.parameters(), lr)\n"
   ]
  },
  {
   "cell_type": "code",
   "execution_count": 60,
   "metadata": {},
   "outputs": [
    {
     "data": {
      "application/vnd.jupyter.widget-view+json": {
       "model_id": "2d80f117c27d47d586eabfface70ba6e",
       "version_major": 2,
       "version_minor": 0
      },
      "text/plain": [
       "  0%|          | 0/500 [00:00<?, ?epochs/s]"
      ]
     },
     "metadata": {},
     "output_type": "display_data"
    },
    {
     "name": "stdout",
     "output_type": "stream",
     "text": [
      "Epoch 0 (train) -- loss: 0.4055 acc: 0.0186\n",
      "Epoch 0 (valid) -- loss: 0.4045 acc: 0.0174\n",
      "Epoch 20 (train) -- loss: 0.3860 acc: 0.0650\n",
      "Epoch 20 (valid) -- loss: 0.3846 acc: 0.0565\n",
      "Epoch 40 (train) -- loss: 0.3789 acc: 0.0623\n",
      "Epoch 40 (valid) -- loss: 0.3770 acc: 0.0717\n",
      "Epoch 60 (train) -- loss: 0.3699 acc: 0.0874\n",
      "Epoch 60 (valid) -- loss: 0.3670 acc: 0.1065\n",
      "Epoch 80 (train) -- loss: 0.3656 acc: 0.0929\n",
      "Epoch 80 (valid) -- loss: 0.3627 acc: 0.1130\n",
      "Epoch 100 (train) -- loss: 0.3610 acc: 0.0978\n",
      "Epoch 100 (valid) -- loss: 0.3588 acc: 0.1065\n",
      "Epoch 120 (train) -- loss: 0.3594 acc: 0.1033\n",
      "Epoch 120 (valid) -- loss: 0.3561 acc: 0.1196\n",
      "Epoch 140 (train) -- loss: 0.3556 acc: 0.1098\n",
      "Epoch 140 (valid) -- loss: 0.3520 acc: 0.1196\n",
      "Epoch 160 (train) -- loss: 0.3500 acc: 0.1126\n",
      "Epoch 160 (valid) -- loss: 0.3468 acc: 0.1217\n",
      "Epoch 180 (train) -- loss: 0.3464 acc: 0.1066\n",
      "Epoch 180 (valid) -- loss: 0.3432 acc: 0.1217\n",
      "Epoch 200 (train) -- loss: 0.3439 acc: 0.1251\n",
      "Epoch 200 (valid) -- loss: 0.3391 acc: 0.1587\n",
      "Epoch 220 (train) -- loss: 0.3400 acc: 0.1503\n",
      "Epoch 220 (valid) -- loss: 0.3347 acc: 0.1761\n",
      "Epoch 240 (train) -- loss: 0.3387 acc: 0.1497\n",
      "Epoch 240 (valid) -- loss: 0.3340 acc: 0.1652\n",
      "Epoch 260 (train) -- loss: 0.3360 acc: 0.1617\n",
      "Epoch 260 (valid) -- loss: 0.3311 acc: 0.1630\n",
      "Epoch 280 (train) -- loss: 0.3341 acc: 0.1623\n",
      "Epoch 280 (valid) -- loss: 0.3271 acc: 0.1826\n",
      "Epoch 300 (train) -- loss: 0.3304 acc: 0.1814\n",
      "Epoch 300 (valid) -- loss: 0.3265 acc: 0.1913\n",
      "Epoch 320 (train) -- loss: 0.3275 acc: 0.1727\n",
      "Epoch 320 (valid) -- loss: 0.3253 acc: 0.1891\n",
      "Epoch 340 (train) -- loss: 0.3269 acc: 0.1803\n",
      "Epoch 340 (valid) -- loss: 0.3222 acc: 0.2043\n",
      "Epoch 360 (train) -- loss: 0.3234 acc: 0.1984\n",
      "Epoch 360 (valid) -- loss: 0.3193 acc: 0.1957\n",
      "Epoch 380 (train) -- loss: 0.3234 acc: 0.1792\n",
      "Epoch 380 (valid) -- loss: 0.3184 acc: 0.1870\n",
      "Epoch 400 (train) -- loss: 0.3202 acc: 0.1809\n",
      "Epoch 400 (valid) -- loss: 0.3148 acc: 0.1783\n",
      "Epoch 420 (train) -- loss: 0.3168 acc: 0.1956\n",
      "Epoch 420 (valid) -- loss: 0.3100 acc: 0.2109\n",
      "Epoch 440 (train) -- loss: 0.3135 acc: 0.2109\n",
      "Epoch 440 (valid) -- loss: 0.3076 acc: 0.2196\n",
      "Epoch 460 (train) -- loss: 0.3092 acc: 0.2191\n",
      "Epoch 460 (valid) -- loss: 0.3054 acc: 0.2261\n",
      "Epoch 480 (train) -- loss: 0.3090 acc: 0.2005\n",
      "Epoch 480 (valid) -- loss: 0.3062 acc: 0.2087\n"
     ]
    }
   ],
   "source": [
    "# train model\n",
    "train(model.double(), epochs, train_dataloader, val_dataloader)"
   ]
  },
  {
   "cell_type": "code",
   "execution_count": 61,
   "metadata": {},
   "outputs": [
    {
     "data": {
      "image/png": "[encoded data removed]",
      "text/plain": [
       "<Figure size 432x288 with 1 Axes>"
      ]
     },
     "metadata": {
      "needs_background": "light"
     },
     "output_type": "display_data"
    },
    {
     "data": {
      "image/png": "[encoded data removed]",
      "text/plain": [
       "<Figure size 432x288 with 1 Axes>"
      ]
     },
     "metadata": {
      "needs_background": "light"
     },
     "output_type": "display_data"
    }
   ],
   "source": [
    "# plot metrics\n",
    "\n",
    "# loss\n",
    "plt.plot(np.arange(epochs), train.losses_train, color=\"b\", label=\"train\")\n",
    "plt.plot(np.arange(epochs), train.losses_val, color=\"r\", label=\"val\")\n",
    "plt.title(\"Loss\")\n",
    "plt.legend()\n",
    "plt.show()\n",
    "\n",
    "# accuracy\n",
    "plt.plot(np.arange(epochs), train.accuracy_train, color=\"b\",label=\"train\" )\n",
    "plt.plot(np.arange(epochs), train.accuracy_val, color=\"r\",label=\"val\")\n",
    "plt.title(\"Accuracy\")\n",
    "plt.legend()\n",
    "plt.show()"
   ]
  },
  {
   "cell_type": "code",
   "execution_count": 62,
   "metadata": {},
   "outputs": [],
   "source": [
    "# save model\n",
    "torch.save(train.trained_model.state_dict(), \"trained_models/\" + \"net_\" + str(len(os.listdir(\"trained_models/\"))) + \".pt\")"
   ]
  }
 ],
 "metadata": {
  "interpreter": {
   "hash": "7e85ec9bf098c5427e45e2f632dcd4eeff803b007e1abd287d600879388709c1"
  },
  "kernelspec": {
   "display_name": "Python 3.8.10 64-bit",
   "language": "python",
   "name": "python3"
  },
  "language_info": {
   "codemirror_mode": {
    "name": "ipython",
    "version": 3
   },
   "file_extension": ".py",
   "mimetype": "text/x-python",
   "name": "python",
   "nbconvert_exporter": "python",
   "pygments_lexer": "ipython3",
   "version": "3.8.10"
  },
  "orig_nbformat": 4
 },
 "nbformat": 4,
 "nbformat_minor": 2
}
