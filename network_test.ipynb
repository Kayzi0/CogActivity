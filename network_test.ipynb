{
 "cells": [
  {
   "cell_type": "code",
   "execution_count": 83,
   "metadata": {},
   "outputs": [
    {
     "ename": "ImportError",
     "evalue": "cannot import name 'CogDatasetTest' from 'dataset' (/Users/annka/Programming/Uni/MedDatSci/CogActivity/dataset.py)",
     "output_type": "error",
     "traceback": [
      "\u001b[0;31m---------------------------------------------------------------------------\u001b[0m",
      "\u001b[0;31mImportError\u001b[0m                               Traceback (most recent call last)",
      "\u001b[1;32m/Users/annka/Programming/Uni/MedDatSci/CogActivity/network_test.ipynb Cell 1'\u001b[0m in \u001b[0;36m<cell line: 14>\u001b[0;34m()\u001b[0m\n\u001b[1;32m     <a href='vscode-notebook-cell:/Users/annka/Programming/Uni/MedDatSci/CogActivity/network_test.ipynb#ch0000000?line=11'>12</a>\u001b[0m \u001b[39mfrom\u001b[39;00m \u001b[39mtorch\u001b[39;00m\u001b[39m.\u001b[39;00m\u001b[39mutils\u001b[39;00m\u001b[39m.\u001b[39;00m\u001b[39mdata\u001b[39;00m \u001b[39mimport\u001b[39;00m Dataset\n\u001b[1;32m     <a href='vscode-notebook-cell:/Users/annka/Programming/Uni/MedDatSci/CogActivity/network_test.ipynb#ch0000000?line=12'>13</a>\u001b[0m \u001b[39mfrom\u001b[39;00m \u001b[39mtorch\u001b[39;00m\u001b[39m.\u001b[39;00m\u001b[39mutils\u001b[39;00m\u001b[39m.\u001b[39;00m\u001b[39mdata\u001b[39;00m \u001b[39mimport\u001b[39;00m DataLoader\n\u001b[0;32m---> <a href='vscode-notebook-cell:/Users/annka/Programming/Uni/MedDatSci/CogActivity/network_test.ipynb#ch0000000?line=13'>14</a>\u001b[0m \u001b[39mfrom\u001b[39;00m \u001b[39mdataset\u001b[39;00m \u001b[39mimport\u001b[39;00m CogDatasetTest\n\u001b[1;32m     <a href='vscode-notebook-cell:/Users/annka/Programming/Uni/MedDatSci/CogActivity/network_test.ipynb#ch0000000?line=14'>15</a>\u001b[0m \u001b[39mfrom\u001b[39;00m \u001b[39mmeanAveragePrecision\u001b[39;00m \u001b[39mimport\u001b[39;00m computeMeanAveragePrecision\n",
      "\u001b[0;31mImportError\u001b[0m: cannot import name 'CogDatasetTest' from 'dataset' (/Users/annka/Programming/Uni/MedDatSci/CogActivity/dataset.py)"
     ]
    }
   ],
   "source": [
    "from torch import nn, optim\n",
    "import numpy as np\n",
    "import pickle as p\n",
    "import torch\n",
    "from tqdm.notebook import trange\n",
    "from tqdm import tqdm\n",
    "import matplotlib.pyplot as plt\n",
    "\n",
    "from network import ConvNet\n",
    "from resnet import ResNet\n",
    "from sklearn.metrics import f1_score\n",
    "from torch.utils.data import Dataset\n",
    "from torch.utils.data import DataLoader\n",
    "from dataset import CogDatasetTest\n",
    "from meanAveragePrecision import computeMeanAveragePrecision"
   ]
  },
  {
   "cell_type": "code",
   "execution_count": 74,
   "metadata": {},
   "outputs": [],
   "source": [
    "# function for training and evaluation\n",
    "def test(model, test_dataloader):\n",
    "    accuracies = []\n",
    "    f1_scores = []\n",
    "    softmax_scores = []\n",
    "\n",
    "    with torch.no_grad():\n",
    "\n",
    "        model.eval()\n",
    "\n",
    "        running_accuracy = 0.0\n",
    "        running_f1 = 0.0\n",
    "\n",
    "        for input, target in test_dataloader:\n",
    "            \n",
    "            output = model(input)\n",
    "\n",
    "            prediction = torch.argmax(output, dim=1).float() \n",
    "            softmax = torch.softmax(output, dim=1)\n",
    "\n",
    "            for o, t in zip(prediction, target):\n",
    "                if o == t:\n",
    "                    running_accuracy+=1/(len(test_dataloader)*batch_size)\n",
    "                \n",
    "            #running_f1 += f1_score(target, prediction)\n",
    "\n",
    "            #running_f1 /= len(val_dataloader)\n",
    "\n",
    "            accuracies.append(running_accuracy)\n",
    "            #f1_val.append(running_f1)\n",
    "            softmax_scores.append(softmax.tolist())\n",
    "\n",
    "            # output\n",
    "            if len(accuracies) % 20 == 0:\n",
    "                tqdm.write('No. {} (test) -- acc: {:.4f}'.format(len(accuracies), running_accuracy))\n",
    "\n",
    "        softmax_scores = np.asarray(softmax_scores)\n",
    "        print(softmax_scores.shape)\n",
    "\n",
    "        mean_avg_precision = computeMeanAveragePrecision(labels, np.asarray(softmax_scores))\n",
    "\n",
    "        # print last value of metrics\n",
    "        #tqdm.write('Final accuracy: {:.4f}, mean avg precision {:.4f}'.format(running_accuracy, mean_avg_precision))\n",
    "\n",
    "\n",
    "    # make metrics callable outside this function\n",
    "    test.accuracy = accuracies\n",
    "    # test.f1_score = f1_scores\n",
    "    test.mean_avg_precision = mean_avg_precision"
   ]
  },
  {
   "cell_type": "code",
   "execution_count": 80,
   "metadata": {},
   "outputs": [
    {
     "name": "stdout",
     "output_type": "stream",
     "text": [
      "(2288, 8, 200, 3)\n",
      "(2288,)\n",
      "(2288, 24, 200)\n"
     ]
    },
    {
     "ename": "NameError",
     "evalue": "name 'CogDatasetTest' is not defined",
     "output_type": "error",
     "traceback": [
      "\u001b[0;31m---------------------------------------------------------------------------\u001b[0m",
      "\u001b[0;31mNameError\u001b[0m                                 Traceback (most recent call last)",
      "\u001b[1;32m/Users/annka/Programming/Uni/MedDatSci/CogActivity/network_test.ipynb Cell 3'\u001b[0m in \u001b[0;36m<cell line: 15>\u001b[0;34m()\u001b[0m\n\u001b[1;32m     <a href='vscode-notebook-cell:/Users/annka/Programming/Uni/MedDatSci/CogActivity/network_test.ipynb#ch0000002?line=12'>13</a>\u001b[0m batch_size \u001b[39m=\u001b[39m \u001b[39m1\u001b[39m\n\u001b[1;32m     <a href='vscode-notebook-cell:/Users/annka/Programming/Uni/MedDatSci/CogActivity/network_test.ipynb#ch0000002?line=13'>14</a>\u001b[0m \u001b[39m# create datasets\u001b[39;00m\n\u001b[0;32m---> <a href='vscode-notebook-cell:/Users/annka/Programming/Uni/MedDatSci/CogActivity/network_test.ipynb#ch0000002?line=14'>15</a>\u001b[0m test_dataset \u001b[39m=\u001b[39m CogDatasetTest(data, labels, train\u001b[39m=\u001b[39m\u001b[39mFalse\u001b[39;00m)\n\u001b[1;32m     <a href='vscode-notebook-cell:/Users/annka/Programming/Uni/MedDatSci/CogActivity/network_test.ipynb#ch0000002?line=15'>16</a>\u001b[0m test_dataloader \u001b[39m=\u001b[39m DataLoader(dataset\u001b[39m=\u001b[39mtest_dataset, batch_size\u001b[39m=\u001b[39mbatch_size, shuffle\u001b[39m=\u001b[39m\u001b[39mFalse\u001b[39;00m)\n\u001b[1;32m     <a href='vscode-notebook-cell:/Users/annka/Programming/Uni/MedDatSci/CogActivity/network_test.ipynb#ch0000002?line=16'>17</a>\u001b[0m \u001b[39mprint\u001b[39m(\u001b[39mlen\u001b[39m(test_dataloader))\n",
      "\u001b[0;31mNameError\u001b[0m: name 'CogDatasetTest' is not defined"
     ]
    }
   ],
   "source": [
    "# load data and label files\n",
    "# shape = [2284, 200, 3, 9] --> [datasets, time series, channels, devices]\n",
    "data = p.load(open(r\"data/test.pkl\", \"rb\"))\n",
    "labels = p.load(open(r\"data/labels_test.pkl\", \"rb\"))\n",
    "print(data.shape)\n",
    "print(labels.shape)\n",
    "\n",
    "#reshape data into datasets x (channels x devices) x time series \n",
    "data = data.transpose((0,1,3,2))\n",
    "data = data.reshape(data.shape[0], -1, data.shape[3])\n",
    "print(data.shape)\n",
    "\n",
    "batch_size = 1\n",
    "# create datasets\n",
    "test_dataset = CogDatasetTest(data, labels, train=False)\n",
    "test_dataloader = DataLoader(dataset=test_dataset, batch_size=batch_size, shuffle=False)\n",
    "print(len(test_dataloader))"
   ]
  },
  {
   "cell_type": "code",
   "execution_count": 4,
   "metadata": {},
   "outputs": [
    {
     "data": {
      "text/plain": [
       "<All keys matched successfully>"
      ]
     },
     "execution_count": 4,
     "metadata": {},
     "output_type": "execute_result"
    }
   ],
   "source": [
    "# load model for testing\n",
    "net_num = 1\n",
    "model = ResNet()\n",
    "model.load_state_dict(torch.load(\"trained_models/net_\" + str(net_num) + \".pt\"))"
   ]
  },
  {
   "cell_type": "code",
   "execution_count": 76,
   "metadata": {},
   "outputs": [
    {
     "name": "stdout",
     "output_type": "stream",
     "text": [
      "No. 20 (test) -- acc: 0.0218\n",
      "No. 40 (test) -- acc: 0.0568\n",
      "No. 60 (test) -- acc: 0.0830\n",
      "No. 80 (test) -- acc: 0.1114\n",
      "No. 100 (test) -- acc: 0.1441\n",
      "No. 120 (test) -- acc: 0.1725\n",
      "No. 140 (test) -- acc: 0.1943\n",
      "No. 160 (test) -- acc: 0.2271\n",
      "No. 180 (test) -- acc: 0.2576\n",
      "No. 200 (test) -- acc: 0.2904\n",
      "No. 220 (test) -- acc: 0.3275\n",
      "No. 240 (test) -- acc: 0.3559\n",
      "No. 260 (test) -- acc: 0.3734\n",
      "No. 280 (test) -- acc: 0.3996\n",
      "No. 300 (test) -- acc: 0.4236\n",
      "No. 320 (test) -- acc: 0.4541\n",
      "No. 340 (test) -- acc: 0.4803\n",
      "No. 360 (test) -- acc: 0.5131\n",
      "No. 380 (test) -- acc: 0.5393\n",
      "No. 400 (test) -- acc: 0.5699\n",
      "No. 420 (test) -- acc: 0.6026\n",
      "No. 440 (test) -- acc: 0.6332\n",
      "(458, 1, 55)\n"
     ]
    },
    {
     "ename": "ValueError",
     "evalue": "too many values to unpack (expected 2)",
     "output_type": "error",
     "traceback": [
      "\u001b[0;31m---------------------------------------------------------------------------\u001b[0m",
      "\u001b[0;31mValueError\u001b[0m                                Traceback (most recent call last)",
      "\u001b[1;32m/Users/annka/Programming/Uni/MedDatSci/CogActivity/network_test.ipynb Cell 5'\u001b[0m in \u001b[0;36m<cell line: 2>\u001b[0;34m()\u001b[0m\n\u001b[1;32m      <a href='vscode-notebook-cell:/Users/annka/Programming/Uni/MedDatSci/CogActivity/network_test.ipynb#ch0000004?line=0'>1</a>\u001b[0m \u001b[39m# test model\u001b[39;00m\n\u001b[0;32m----> <a href='vscode-notebook-cell:/Users/annka/Programming/Uni/MedDatSci/CogActivity/network_test.ipynb#ch0000004?line=1'>2</a>\u001b[0m test(model\u001b[39m.\u001b[39;49mdouble(), test_dataloader)\n",
      "\u001b[1;32m/Users/annka/Programming/Uni/MedDatSci/CogActivity/network_test.ipynb Cell 2'\u001b[0m in \u001b[0;36mtest\u001b[0;34m(model, test_dataloader)\u001b[0m\n\u001b[1;32m     <a href='vscode-notebook-cell:/Users/annka/Programming/Uni/MedDatSci/CogActivity/network_test.ipynb#ch0000001?line=36'>37</a>\u001b[0m     softmax_scores \u001b[39m=\u001b[39m np\u001b[39m.\u001b[39masarray(softmax_scores)\n\u001b[1;32m     <a href='vscode-notebook-cell:/Users/annka/Programming/Uni/MedDatSci/CogActivity/network_test.ipynb#ch0000001?line=37'>38</a>\u001b[0m     \u001b[39mprint\u001b[39m(softmax_scores\u001b[39m.\u001b[39mshape)\n\u001b[0;32m---> <a href='vscode-notebook-cell:/Users/annka/Programming/Uni/MedDatSci/CogActivity/network_test.ipynb#ch0000001?line=39'>40</a>\u001b[0m     mean_avg_precision \u001b[39m=\u001b[39m computeMeanAveragePrecision(labels, np\u001b[39m.\u001b[39;49masarray(softmax_scores))\n\u001b[1;32m     <a href='vscode-notebook-cell:/Users/annka/Programming/Uni/MedDatSci/CogActivity/network_test.ipynb#ch0000001?line=41'>42</a>\u001b[0m     \u001b[39m# print last value of metrics\u001b[39;00m\n\u001b[1;32m     <a href='vscode-notebook-cell:/Users/annka/Programming/Uni/MedDatSci/CogActivity/network_test.ipynb#ch0000001?line=42'>43</a>\u001b[0m     \u001b[39m#tqdm.write('Final accuracy: {:.4f}, mean avg precision {:.4f}'.format(running_accuracy, mean_avg_precision))\u001b[39;00m\n\u001b[1;32m     <a href='vscode-notebook-cell:/Users/annka/Programming/Uni/MedDatSci/CogActivity/network_test.ipynb#ch0000001?line=43'>44</a>\u001b[0m \n\u001b[1;32m     <a href='vscode-notebook-cell:/Users/annka/Programming/Uni/MedDatSci/CogActivity/network_test.ipynb#ch0000001?line=44'>45</a>\u001b[0m \n\u001b[1;32m     <a href='vscode-notebook-cell:/Users/annka/Programming/Uni/MedDatSci/CogActivity/network_test.ipynb#ch0000001?line=45'>46</a>\u001b[0m \u001b[39m# make metrics callable outside this function\u001b[39;00m\n\u001b[1;32m     <a href='vscode-notebook-cell:/Users/annka/Programming/Uni/MedDatSci/CogActivity/network_test.ipynb#ch0000001?line=46'>47</a>\u001b[0m test\u001b[39m.\u001b[39maccuracy \u001b[39m=\u001b[39m accuracies\n",
      "File \u001b[0;32m~/Programming/Uni/MedDatSci/CogActivity/meanAveragePrecision.py:19\u001b[0m, in \u001b[0;36mcomputeMeanAveragePrecision\u001b[0;34m(labels, softmaxEstimations)\u001b[0m\n\u001b[1;32m     <a href='file:///Users/annka/Programming/Uni/MedDatSci/CogActivity/meanAveragePrecision.py?line=16'>17</a>\u001b[0m \u001b[39mdef\u001b[39;00m \u001b[39mcomputeMeanAveragePrecision\u001b[39m(labels,softmaxEstimations):\n\u001b[0;32m---> <a href='file:///Users/annka/Programming/Uni/MedDatSci/CogActivity/meanAveragePrecision.py?line=18'>19</a>\u001b[0m     nbExamples , nbClasses \u001b[39m=\u001b[39m softmaxEstimations\u001b[39m.\u001b[39mshape\n\u001b[1;32m     <a href='file:///Users/annka/Programming/Uni/MedDatSci/CogActivity/meanAveragePrecision.py?line=20'>21</a>\u001b[0m     averagePrecisions \u001b[39m=\u001b[39m np\u001b[39m.\u001b[39mzeros((nbClasses),dtype\u001b[39m=\u001b[39mnp\u001b[39m.\u001b[39mfloat32)\n\u001b[1;32m     <a href='file:///Users/annka/Programming/Uni/MedDatSci/CogActivity/meanAveragePrecision.py?line=22'>23</a>\u001b[0m     \u001b[39m# For all classes\u001b[39;00m\n",
      "\u001b[0;31mValueError\u001b[0m: too many values to unpack (expected 2)"
     ]
    }
   ],
   "source": [
    "# test model\n",
    "test(model.double(), test_dataloader)"
   ]
  },
  {
   "cell_type": "code",
   "execution_count": null,
   "metadata": {},
   "outputs": [
    {
     "name": "stderr",
     "output_type": "stream",
     "text": [
      "No artists with labels found to put in legend.  Note that artists whose label start with an underscore are ignored when legend() is called with no argument.\n"
     ]
    },
    {
     "data": {
      "image/png": "[encoded data removed]",
      "text/plain": [
       "<Figure size 432x288 with 1 Axes>"
      ]
     },
     "metadata": {
      "needs_background": "light"
     },
     "output_type": "display_data"
    }
   ],
   "source": [
    "# plot metrics\n",
    "\n",
    "# accuracy\n",
    "plt.scatter(np.arange(len(test.accuracy)), test.accuracy, color=\"b\")\n",
    "plt.title(\"Accuracy\")\n",
    "plt.legend()\n",
    "plt.show()"
   ]
  }
 ],
 "metadata": {
  "interpreter": {
   "hash": "7e85ec9bf098c5427e45e2f632dcd4eeff803b007e1abd287d600879388709c1"
  },
  "kernelspec": {
   "display_name": "Python 3.8.10 64-bit",
   "language": "python",
   "name": "python3"
  },
  "language_info": {
   "codemirror_mode": {
    "name": "ipython",
    "version": 3
   },
   "file_extension": ".py",
   "mimetype": "text/x-python",
   "name": "python",
   "nbconvert_exporter": "python",
   "pygments_lexer": "ipython3",
   "version": "3.8.10"
  },
  "orig_nbformat": 4
 },
 "nbformat": 4,
 "nbformat_minor": 2
}
