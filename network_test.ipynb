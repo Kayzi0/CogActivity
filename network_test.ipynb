{
 "cells": [
  {
   "cell_type": "code",
   "execution_count": 31,
   "metadata": {},
   "outputs": [],
   "source": [
    "from torch import nn, optim\n",
    "import numpy as np\n",
    "import pickle as p\n",
    "import torch\n",
    "from tqdm.notebook import trange\n",
    "from tqdm import tqdm\n",
    "import matplotlib.pyplot as plt\n",
    "\n",
    "from network import ConvNet\n",
    "from sklearn.metrics import f1_score\n",
    "from torch.utils.data import Dataset\n",
    "from torch.utils.data import DataLoader\n",
    "from dataset import CogDataset"
   ]
  },
  {
   "cell_type": "code",
<<<<<<< HEAD
   "execution_count": 37,
=======
   "execution_count": 16,
>>>>>>> f14d122b47072de8e962103e3bdcdd7aec8d46ba
   "metadata": {},
   "outputs": [],
   "source": [
    "# function for training and evaluation\n",
    "def test(model, test_dataloader):\n",
    "    accuracies = []\n",
    "    f1_scores = []\n",
    "\n",
    "    with torch.no_grad():\n",
    "\n",
    "        model.eval()\n",
    "\n",
    "        running_accuracy = 0.0\n",
    "        running_f1 = 0.0\n",
    "\n",
    "        for input, target in test_dataloader:\n",
    "\n",
    "            output = model(input)\n",
    "\n",
    "            prediction = torch.argmax(output, dim=1).float()   \n",
    "\n",
    "            for o, t in zip(prediction, target):\n",
    "                if o == t:\n",
    "                    running_accuracy+=1/(len(test_dataloader)*batch_size)\n",
    "            #running_f1 += f1_score(target, prediction)\n",
    "\n",
    "            #running_f1 /= len(val_dataloader)\n",
    "\n",
    "            accuracies.append(running_accuracy)\n",
    "            #f1_val.append(running_f1)\n",
    "\n",
    "            # output\n",
    "            if len(accuracies) % 20 == 0:\n",
    "                tqdm.write('No. {} (test) -- acc: {:.4f}'.format(len(accuracies), running_accuracy))\n",
    "\n",
    "    # print last value of metrics\n",
    "        tqdm.write('Final accuracy: {:.4f}'.format(running_accuracy))\n",
    "\n",
    "    # make metrics callable outside this function\n",
    "    test.accuracy = accuracies\n",
    "    # test.f1_score = f1_scores"
   ]
  },
  {
   "cell_type": "code",
<<<<<<< HEAD
   "execution_count": 33,
=======
   "execution_count": 12,
>>>>>>> f14d122b47072de8e962103e3bdcdd7aec8d46ba
   "metadata": {},
   "outputs": [
    {
     "name": "stdout",
     "output_type": "stream",
     "text": [
      "(2288, 8, 200, 3)\n"
     ]
    }
   ],
   "source": [
    "# load data and label files\n",
    "# shape = [2284, 200, 3, 9] --> [datasets, time series, channels, devices]\n",
    "data = p.load(open(r\"data/test.pkl\", \"rb\"))\n",
    "labels = p.load(open(r\"data/labels_test.pkl\", \"rb\"))\n",
    "print(data.shape)\n",
    "\n",
    "batch_size = 1\n",
    "\n",
    "# create datasets\n",
    "test_dataset = CogDataset(data, labels, train=False)\n",
    "test_dataloader = DataLoader(dataset=test_dataset, batch_size=batch_size, shuffle=False)"
   ]
  },
  {
   "cell_type": "code",
<<<<<<< HEAD
   "execution_count": 34,
=======
   "execution_count": 13,
>>>>>>> f14d122b47072de8e962103e3bdcdd7aec8d46ba
   "metadata": {},
   "outputs": [
    {
     "data": {
      "text/plain": [
       "<All keys matched successfully>"
      ]
     },
<<<<<<< HEAD
     "execution_count": 34,
=======
     "execution_count": 13,
>>>>>>> f14d122b47072de8e962103e3bdcdd7aec8d46ba
     "metadata": {},
     "output_type": "execute_result"
    }
   ],
   "source": [
    "# load model for testing\n",
    "net_num = 0\n",
    "model = ConvNet()\n",
    "model.load_state_dict(torch.load(\"trained_models/net_\" + str(net_num) + \".pt\"))"
   ]
  },
  {
   "cell_type": "code",
<<<<<<< HEAD
   "execution_count": 38,
   "metadata": {},
   "outputs": [
    {
     "name": "stdout",
     "output_type": "stream",
     "text": [
      "No. 20 (test) -- acc: 0.0022\n",
      "No. 40 (test) -- acc: 0.0022\n",
      "No. 60 (test) -- acc: 0.0044\n",
      "No. 80 (test) -- acc: 0.0066\n",
      "No. 100 (test) -- acc: 0.0066\n",
      "No. 120 (test) -- acc: 0.0131\n",
      "No. 140 (test) -- acc: 0.0153\n",
      "No. 160 (test) -- acc: 0.0175\n",
      "No. 180 (test) -- acc: 0.0218\n",
      "No. 200 (test) -- acc: 0.0240\n",
      "No. 220 (test) -- acc: 0.0240\n",
      "No. 240 (test) -- acc: 0.0328\n",
      "No. 260 (test) -- acc: 0.0349\n",
      "No. 280 (test) -- acc: 0.0415\n",
      "No. 300 (test) -- acc: 0.0437\n",
      "No. 320 (test) -- acc: 0.0524\n",
      "No. 340 (test) -- acc: 0.0568\n",
      "No. 360 (test) -- acc: 0.0590\n",
      "No. 380 (test) -- acc: 0.0633\n",
      "No. 400 (test) -- acc: 0.0655\n",
      "No. 420 (test) -- acc: 0.0721\n",
      "No. 440 (test) -- acc: 0.0786\n",
      "Final accuracy: 0.0786\n"
     ]
    }
   ],
=======
   "execution_count": 17,
   "metadata": {},
   "outputs": [],
>>>>>>> f14d122b47072de8e962103e3bdcdd7aec8d46ba
   "source": [
    "# test model\n",
    "test(model.double(), test_dataloader)"
   ]
  },
  {
   "cell_type": "code",
   "execution_count": 36,
   "metadata": {},
   "outputs": [
    {
     "name": "stderr",
     "output_type": "stream",
     "text": [
      "No artists with labels found to put in legend.  Note that artists whose label start with an underscore are ignored when legend() is called with no argument.\n"
     ]
    },
    {
     "data": {
<<<<<<< HEAD
      "image/png": "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",
=======
      "image/png": "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",
>>>>>>> f14d122b47072de8e962103e3bdcdd7aec8d46ba
      "text/plain": [
       "<Figure size 432x288 with 1 Axes>"
      ]
     },
     "metadata": {
      "needs_background": "light"
     },
     "output_type": "display_data"
    }
   ],
   "source": [
    "# plot metrics\n",
    "\n",
    "# accuracy\n",
    "plt.scatter(np.arange(len(test.accuracy)), test.accuracy, color=\"b\")\n",
    "plt.title(\"Accuracy\")\n",
    "plt.legend()\n",
    "plt.show()"
   ]
  }
 ],
 "metadata": {
  "interpreter": {
   "hash": "7e85ec9bf098c5427e45e2f632dcd4eeff803b007e1abd287d600879388709c1"
  },
  "kernelspec": {
   "display_name": "Python 3.8.10 64-bit",
   "language": "python",
   "name": "python3"
  },
  "language_info": {
   "codemirror_mode": {
    "name": "ipython",
    "version": 3
   },
   "file_extension": ".py",
   "mimetype": "text/x-python",
   "name": "python",
   "nbconvert_exporter": "python",
   "pygments_lexer": "ipython3",
   "version": "3.8.8"
  },
  "orig_nbformat": 4
 },
 "nbformat": 4,
 "nbformat_minor": 2
}
