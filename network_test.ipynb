{
 "cells": [
  {
   "cell_type": "code",
   "execution_count": 80,
   "metadata": {},
   "outputs": [],
   "source": [
    "from torch import nn, optim\n",
    "import numpy as np\n",
    "import pickle as p\n",
    "import torch\n",
    "from tqdm.notebook import trange\n",
    "from tqdm import tqdm\n",
    "import matplotlib.pyplot as plt\n",
    "\n",
    "from network import ConvNet\n",
    "from resnet import ResNet\n",
    "from sklearn.metrics import f1_score\n",
    "from torch.utils.data import Dataset\n",
    "from torch.utils.data import DataLoader\n",
    "from dataset import CogDatasetTest\n",
    "from meanAveragePrecision import computeMeanAveragePrecision\n",
    "import helpers"
   ]
  },
  {
   "cell_type": "code",
   "execution_count": 81,
   "metadata": {},
   "outputs": [],
   "source": [
    "# function for training and evaluation\n",
    "def test(model, test_dataloader):\n",
    "    accuracies = []\n",
    "    f1s = []\n",
    "    softmax_scores = []\n",
    "\n",
    "    with torch.no_grad():\n",
    "\n",
    "        model.eval()\n",
    "\n",
    "        running_accuracy = 0.0\n",
    "        conf_mat = torch.zeros(55,55)\n",
    "\n",
    "        for input, target in test_dataloader:\n",
    "            \n",
    "            output = model(input)\n",
    "\n",
    "            prediction = torch.argmax(output, dim=1).float() \n",
    "            softmax = torch.softmax(output, dim=1)\n",
    "\n",
    "            for o, t in zip(prediction, target):\n",
    "                if o == t:\n",
    "                    running_accuracy+=1/(len(test_dataloader)*batch_size)\n",
    "                \n",
    "            #running_f1 += f1_score(target, prediction)\n",
    "            conf_mat += helpers.confusion_mat(output, target)\n",
    "\n",
    "            #running_f1 /= len(val_dataloader)\n",
    "\n",
    "            accuracies.append(running_accuracy)\n",
    "            #f1_val.append(running_f1)\n",
    "            softmax_scores.append(softmax.tolist())\n",
    "\n",
    "            # output\n",
    "            if (len(accuracies) % 20 == 0 or len(accuracies) == len(test_dataloader)):\n",
    "                tqdm.write('No. {} (test) -- acc: {:.4f}'.format(len(accuracies), running_accuracy))\n",
    "\n",
    "        # mean average precision\n",
    "        softmax_scores = np.asarray(softmax_scores).squeeze(1)\n",
    "        mean_avg_precision, _ = computeMeanAveragePrecision(labels, softmax_scores)\n",
    "\n",
    "        # f1 score\n",
    "        f1 = helpers.f1_score(conf_mat)\n",
    "\n",
    "\n",
    "        # print last value of metrics\n",
    "        tqdm.write('Final accuracy: {:.4f}, mean avg precision {:.4f}, f1: {:.4f}'.format(running_accuracy, mean_avg_precision, f1))\n",
    "\n",
    "\n",
    "    # make metrics callable outside this function\n",
    "    test.accuracy = accuracies\n",
    "    test.f1 = f1\n",
    "    test.mean_avg_precision = mean_avg_precision"
   ]
  },
  {
   "cell_type": "code",
   "execution_count": 82,
   "metadata": {},
   "outputs": [
    {
     "name": "stdout",
     "output_type": "stream",
     "text": [
      "(2288, 8, 200, 3)\n",
      "(2288,)\n",
      "(2288, 24, 200)\n"
     ]
    }
   ],
   "source": [
    "# load data and label files\n",
    "# shape = [2284, 200, 3, 9] --> [datasets, time series, channels, devices]\n",
    "data = p.load(open(r\"data/test.pkl\", \"rb\"))\n",
    "labels = p.load(open(r\"data/labels_test.pkl\", \"rb\"))\n",
    "print(data.shape)\n",
    "print(labels.shape)\n",
    "\n",
    "#reshape data into datasets x (channels x devices) x time series \n",
    "data = data.transpose((0,1,3,2))\n",
    "data = data.reshape(data.shape[0], -1, data.shape[3])\n",
    "print(data.shape)\n",
    "\n",
    "batch_size = 1\n",
    "# create datasets\n",
    "test_dataset = CogDatasetTest(data, labels)\n",
    "test_dataloader = DataLoader(dataset=test_dataset, batch_size=batch_size, shuffle=False)"
   ]
  },
  {
   "cell_type": "code",
   "execution_count": 83,
   "metadata": {},
   "outputs": [
    {
     "data": {
      "text/plain": [
       "<All keys matched successfully>"
      ]
     },
     "execution_count": 83,
     "metadata": {},
     "output_type": "execute_result"
    }
   ],
   "source": [
    "# load model for testing\n",
    "net_num = 2\n",
    "model = ResNet()\n",
    "model.load_state_dict(torch.load(\"trained_models/net_\" + str(net_num) + \".pt\"))"
   ]
  },
  {
   "cell_type": "code",
   "execution_count": 84,
   "metadata": {},
   "outputs": [
    {
     "name": "stdout",
     "output_type": "stream",
     "text": [
      "No. 20 (test) -- acc: 0.0061\n",
      "No. 40 (test) -- acc: 0.0118\n",
      "No. 60 (test) -- acc: 0.0175\n",
      "No. 80 (test) -- acc: 0.0236\n",
      "No. 100 (test) -- acc: 0.0302\n",
      "No. 120 (test) -- acc: 0.0354\n",
      "No. 140 (test) -- acc: 0.0415\n",
      "No. 160 (test) -- acc: 0.0463\n",
      "No. 180 (test) -- acc: 0.0520\n",
      "No. 200 (test) -- acc: 0.0581\n",
      "No. 220 (test) -- acc: 0.0634\n",
      "No. 240 (test) -- acc: 0.0704\n",
      "No. 260 (test) -- acc: 0.0747\n",
      "No. 280 (test) -- acc: 0.0787\n",
      "No. 300 (test) -- acc: 0.0835\n",
      "No. 320 (test) -- acc: 0.0887\n",
      "No. 340 (test) -- acc: 0.0940\n",
      "No. 360 (test) -- acc: 0.0997\n",
      "No. 380 (test) -- acc: 0.1058\n",
      "No. 400 (test) -- acc: 0.1123\n",
      "No. 420 (test) -- acc: 0.1180\n",
      "No. 440 (test) -- acc: 0.1250\n",
      "No. 460 (test) -- acc: 0.1302\n",
      "No. 480 (test) -- acc: 0.1359\n",
      "No. 500 (test) -- acc: 0.1416\n",
      "No. 520 (test) -- acc: 0.1464\n",
      "No. 540 (test) -- acc: 0.1538\n",
      "No. 560 (test) -- acc: 0.1595\n",
      "No. 580 (test) -- acc: 0.1661\n",
      "No. 600 (test) -- acc: 0.1700\n",
      "No. 620 (test) -- acc: 0.1757\n",
      "No. 640 (test) -- acc: 0.1814\n",
      "No. 660 (test) -- acc: 0.1884\n",
      "No. 680 (test) -- acc: 0.1941\n",
      "No. 700 (test) -- acc: 0.2002\n",
      "No. 720 (test) -- acc: 0.2050\n",
      "No. 740 (test) -- acc: 0.2120\n",
      "No. 760 (test) -- acc: 0.2190\n",
      "No. 780 (test) -- acc: 0.2247\n",
      "No. 800 (test) -- acc: 0.2316\n",
      "No. 820 (test) -- acc: 0.2369\n",
      "No. 840 (test) -- acc: 0.2408\n",
      "No. 860 (test) -- acc: 0.2452\n",
      "No. 880 (test) -- acc: 0.2509\n",
      "No. 900 (test) -- acc: 0.2566\n",
      "No. 920 (test) -- acc: 0.2622\n",
      "No. 940 (test) -- acc: 0.2675\n",
      "No. 960 (test) -- acc: 0.2727\n",
      "No. 980 (test) -- acc: 0.2793\n",
      "No. 1000 (test) -- acc: 0.2837\n",
      "No. 1020 (test) -- acc: 0.2893\n",
      "No. 1040 (test) -- acc: 0.2968\n",
      "No. 1060 (test) -- acc: 0.3011\n",
      "No. 1080 (test) -- acc: 0.3059\n",
      "No. 1100 (test) -- acc: 0.3112\n",
      "No. 1120 (test) -- acc: 0.3177\n",
      "No. 1140 (test) -- acc: 0.3243\n",
      "No. 1160 (test) -- acc: 0.3300\n",
      "No. 1180 (test) -- acc: 0.3352\n",
      "No. 1200 (test) -- acc: 0.3422\n",
      "No. 1220 (test) -- acc: 0.3479\n",
      "No. 1240 (test) -- acc: 0.3531\n",
      "No. 1260 (test) -- acc: 0.3575\n",
      "No. 1280 (test) -- acc: 0.3645\n",
      "No. 1300 (test) -- acc: 0.3693\n",
      "No. 1320 (test) -- acc: 0.3754\n",
      "No. 1340 (test) -- acc: 0.3824\n",
      "No. 1360 (test) -- acc: 0.3885\n",
      "No. 1380 (test) -- acc: 0.3934\n",
      "No. 1400 (test) -- acc: 0.3986\n",
      "No. 1420 (test) -- acc: 0.4021\n",
      "No. 1440 (test) -- acc: 0.4065\n",
      "No. 1460 (test) -- acc: 0.4135\n",
      "No. 1480 (test) -- acc: 0.4191\n",
      "No. 1500 (test) -- acc: 0.4244\n",
      "No. 1520 (test) -- acc: 0.4279\n",
      "No. 1540 (test) -- acc: 0.4327\n",
      "No. 1560 (test) -- acc: 0.4384\n",
      "No. 1580 (test) -- acc: 0.4432\n",
      "No. 1600 (test) -- acc: 0.4497\n",
      "No. 1620 (test) -- acc: 0.4554\n",
      "No. 1640 (test) -- acc: 0.4611\n",
      "No. 1660 (test) -- acc: 0.4659\n",
      "No. 1680 (test) -- acc: 0.4729\n",
      "No. 1700 (test) -- acc: 0.4808\n",
      "No. 1720 (test) -- acc: 0.4865\n",
      "No. 1740 (test) -- acc: 0.4921\n",
      "No. 1760 (test) -- acc: 0.4969\n",
      "No. 1780 (test) -- acc: 0.5039\n",
      "No. 1800 (test) -- acc: 0.5087\n",
      "No. 1820 (test) -- acc: 0.5131\n",
      "No. 1840 (test) -- acc: 0.5184\n",
      "No. 1860 (test) -- acc: 0.5219\n",
      "No. 1880 (test) -- acc: 0.5271\n",
      "No. 1900 (test) -- acc: 0.5332\n",
      "No. 1920 (test) -- acc: 0.5380\n",
      "No. 1940 (test) -- acc: 0.5437\n",
      "No. 1960 (test) -- acc: 0.5490\n",
      "No. 1980 (test) -- acc: 0.5542\n",
      "No. 2000 (test) -- acc: 0.5603\n",
      "No. 2020 (test) -- acc: 0.5647\n",
      "No. 2040 (test) -- acc: 0.5691\n",
      "No. 2060 (test) -- acc: 0.5739\n",
      "No. 2080 (test) -- acc: 0.5791\n",
      "No. 2100 (test) -- acc: 0.5835\n",
      "No. 2120 (test) -- acc: 0.5892\n",
      "No. 2140 (test) -- acc: 0.5922\n",
      "No. 2160 (test) -- acc: 0.5983\n",
      "No. 2180 (test) -- acc: 0.6049\n",
      "No. 2200 (test) -- acc: 0.6106\n",
      "No. 2220 (test) -- acc: 0.6163\n",
      "No. 2240 (test) -- acc: 0.6224\n",
      "No. 2260 (test) -- acc: 0.6272\n",
      "No. 2280 (test) -- acc: 0.6307\n",
      "No. 2288 (test) -- acc: 0.6324\n",
      "Final accuracy: 0.6324, mean avg precision 0.6835, f1: 0.6318\n"
     ]
    }
   ],
   "source": [
    "# test model\n",
    "test(model.double(), test_dataloader)"
   ]
  },
  {
   "cell_type": "code",
   "execution_count": 85,
   "metadata": {},
   "outputs": [
    {
     "name": "stderr",
     "output_type": "stream",
     "text": [
      "No artists with labels found to put in legend.  Note that artists whose label start with an underscore are ignored when legend() is called with no argument.\n"
     ]
    },
    {
     "data": {
      "image/png": "[encoded data removed]",
      "text/plain": [
       "<Figure size 432x288 with 1 Axes>"
      ]
     },
     "metadata": {
      "needs_background": "light"
     },
     "output_type": "display_data"
    }
   ],
   "source": [
    "# plot metrics\n",
    "\n",
    "# accuracy\n",
    "plt.scatter(np.arange(len(test.accuracy)), test.accuracy, color=\"b\")\n",
    "plt.title(\"Accuracy\")\n",
    "plt.legend()\n",
    "plt.show()"
   ]
  }
 ],
 "metadata": {
  "interpreter": {
   "hash": "7e85ec9bf098c5427e45e2f632dcd4eeff803b007e1abd287d600879388709c1"
  },
  "kernelspec": {
   "display_name": "Python 3.8.10 64-bit",
   "language": "python",
   "name": "python3"
  },
  "language_info": {
   "codemirror_mode": {
    "name": "ipython",
    "version": 3
   },
   "file_extension": ".py",
   "mimetype": "text/x-python",
   "name": "python",
   "nbconvert_exporter": "python",
   "pygments_lexer": "ipython3",
   "version": "3.8.10"
  },
  "orig_nbformat": 4
 },
 "nbformat": 4,
 "nbformat_minor": 2
}
