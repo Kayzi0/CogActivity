{
 "cells": [
  {
   "cell_type": "code",
   "execution_count": 31,
   "metadata": {},
   "outputs": [],
   "source": [
    "from torch import nn, optim\n",
    "import numpy as np\n",
    "import pickle as p\n",
    "import torch\n",
    "from tqdm.notebook import trange\n",
    "from tqdm import tqdm\n",
    "import matplotlib.pyplot as plt\n",
    "\n",
    "from network import ConvNet\n",
    "from sklearn.metrics import f1_score\n",
    "from torch.utils.data import Dataset\n",
    "from torch.utils.data import DataLoader\n",
    "from dataset import CogDataset"
   ]
  },
  {
   "cell_type": "code",
   "execution_count": 37,
   "metadata": {},
   "outputs": [],
   "source": [
    "# function for training and evaluation\n",
    "def test(model, test_dataloader):\n",
    "    accuracies = []\n",
    "    f1_scores = []\n",
    "\n",
    "    with torch.no_grad():\n",
    "\n",
    "        model.eval()\n",
    "\n",
    "        running_accuracy = 0.0\n",
    "        running_f1 = 0.0\n",
    "\n",
    "        for input, target in test_dataloader:\n",
    "\n",
    "            output = model(input)\n",
    "\n",
    "            prediction = torch.argmax(output, dim=1).float()   \n",
    "\n",
    "            for o, t in zip(prediction, target):\n",
    "                if o == t:\n",
    "                    running_accuracy+=1/len(test_dataloader)\n",
    "            #running_f1 += f1_score(target, prediction)\n",
    "\n",
    "            #running_f1 /= len(val_dataloader)\n",
    "\n",
    "            accuracies.append(running_accuracy)\n",
    "            #f1_val.append(running_f1)\n",
    "\n",
    "            # output\n",
    "            if len(accuracies) % 20 == 0:\n",
    "                tqdm.write('No. {} (test) -- acc: {:.4f}'.format(len(accuracies), running_accuracy))\n",
    "\n",
    "    # print last value of metrics\n",
    "        tqdm.write('Final accuracy: {:.4f}'.format(running_accuracy))\n",
    "\n",
    "    # make metrics callable outside this function\n",
    "    test.accuracy = accuracies\n",
    "    # test.f1_score = f1_scores"
   ]
  },
  {
   "cell_type": "code",
   "execution_count": 33,
   "metadata": {},
   "outputs": [
    {
     "name": "stdout",
     "output_type": "stream",
     "text": [
      "(2288, 8, 200, 3)\n"
     ]
    }
   ],
   "source": [
    "# load data and label files\n",
    "# shape = [2284, 200, 3, 9] --> [datasets, time series, channels, devices]\n",
    "data = p.load(open(r\"data/test.pkl\", \"rb\"))\n",
    "labels = p.load(open(r\"data/labels_test.pkl\", \"rb\"))\n",
    "print(data.shape)\n",
    "\n",
    "batch_size = 1\n",
    "\n",
    "# create datasets\n",
    "test_dataset = CogDataset(data, labels, train=False)\n",
    "test_dataloader = DataLoader(dataset=test_dataset, batch_size=batch_size, shuffle=False)"
   ]
  },
  {
   "cell_type": "code",
   "execution_count": 34,
   "metadata": {},
   "outputs": [
    {
     "data": {
      "text/plain": [
       "<All keys matched successfully>"
      ]
     },
     "execution_count": 34,
     "metadata": {},
     "output_type": "execute_result"
    }
   ],
   "source": [
    "# load model for testing\n",
    "net_num = 0\n",
    "model = ConvNet()\n",
    "model.load_state_dict(torch.load(\"trained_models/net_\" + str(net_num) + \".pt\"))"
   ]
  },
  {
   "cell_type": "code",
   "execution_count": 38,
   "metadata": {},
   "outputs": [
    {
     "name": "stdout",
     "output_type": "stream",
     "text": [
      "No. 20 (test) -- acc: 0.0022\n",
      "No. 40 (test) -- acc: 0.0022\n",
      "No. 60 (test) -- acc: 0.0044\n",
      "No. 80 (test) -- acc: 0.0066\n",
      "No. 100 (test) -- acc: 0.0066\n",
      "No. 120 (test) -- acc: 0.0131\n",
      "No. 140 (test) -- acc: 0.0153\n",
      "No. 160 (test) -- acc: 0.0175\n",
      "No. 180 (test) -- acc: 0.0218\n",
      "No. 200 (test) -- acc: 0.0240\n",
      "No. 220 (test) -- acc: 0.0240\n",
      "No. 240 (test) -- acc: 0.0328\n",
      "No. 260 (test) -- acc: 0.0349\n",
      "No. 280 (test) -- acc: 0.0415\n",
      "No. 300 (test) -- acc: 0.0437\n",
      "No. 320 (test) -- acc: 0.0524\n",
      "No. 340 (test) -- acc: 0.0568\n",
      "No. 360 (test) -- acc: 0.0590\n",
      "No. 380 (test) -- acc: 0.0633\n",
      "No. 400 (test) -- acc: 0.0655\n",
      "No. 420 (test) -- acc: 0.0721\n",
      "No. 440 (test) -- acc: 0.0786\n",
      "Final accuracy: 0.0786\n"
     ]
    }
   ],
   "source": [
    "# test model\n",
    "test(model.double(), test_dataloader)"
   ]
  },
  {
   "cell_type": "code",
   "execution_count": 36,
   "metadata": {},
   "outputs": [
    {
     "name": "stderr",
     "output_type": "stream",
     "text": [
      "No artists with labels found to put in legend.  Note that artists whose label start with an underscore are ignored when legend() is called with no argument.\n"
     ]
    },
    {
     "data": {
      "image/png": "[encoded data removed]",
      "text/plain": [
       "<Figure size 432x288 with 1 Axes>"
      ]
     },
     "metadata": {
      "needs_background": "light"
     },
     "output_type": "display_data"
    }
   ],
   "source": [
    "# plot metrics\n",
    "\n",
    "# accuracy\n",
    "plt.scatter(np.arange(len(test.accuracy)), test.accuracy, color=\"b\")\n",
    "plt.title(\"Accuracy\")\n",
    "plt.legend()\n",
    "plt.show()"
   ]
  }
 ],
 "metadata": {
  "interpreter": {
   "hash": "7e85ec9bf098c5427e45e2f632dcd4eeff803b007e1abd287d600879388709c1"
  },
  "kernelspec": {
   "display_name": "Python 3.8.10 64-bit",
   "language": "python",
   "name": "python3"
  },
  "language_info": {
   "codemirror_mode": {
    "name": "ipython",
    "version": 3
   },
   "file_extension": ".py",
   "mimetype": "text/x-python",
   "name": "python",
   "nbconvert_exporter": "python",
   "pygments_lexer": "ipython3",
   "version": "3.8.8"
  },
  "orig_nbformat": 4
 },
 "nbformat": 4,
 "nbformat_minor": 2
}
